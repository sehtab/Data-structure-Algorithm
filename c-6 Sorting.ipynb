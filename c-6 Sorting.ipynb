{
 "cells": [
  {
   "cell_type": "markdown",
   "metadata": {},
   "source": [
    "# Bubble Sort"
   ]
  },
  {
   "cell_type": "code",
   "execution_count": 1,
   "metadata": {},
   "outputs": [
    {
     "name": "stdout",
     "output_type": "stream",
     "text": [
      "[54, 26, 93, 17, 77, 31, 44, 55, 20]\n",
      "[17, 20, 26, 31, 44, 54, 55, 77, 93]\n",
      "None\n"
     ]
    }
   ],
   "source": [
    "def bubble_sort(a_list):\n",
    "    for i in range(len(a_list) -1, 0, -1):\n",
    "        for j in range(i):\n",
    "            if a_list[j] > a_list[j+1]:\n",
    "                temp = a_list[j]\n",
    "                a_list[j] = a_list[j+1]\n",
    "                a_list[j+1] = temp\n",
    "a_list = [54,26,93,17,77,31,44,55,20]\n",
    "print(a_list)\n",
    "bubble_sort(a_list)\n",
    "print(a_list)\n",
    "print(bubble_sort(a_list))"
   ]
  },
  {
   "cell_type": "markdown",
   "metadata": {},
   "source": [
    "O(n^2), considered most inefficient sorting method"
   ]
  },
  {
   "cell_type": "markdown",
   "metadata": {},
   "source": [
    "# short bubble"
   ]
  },
  {
   "cell_type": "code",
   "execution_count": 4,
   "metadata": {},
   "outputs": [
    {
     "name": "stdout",
     "output_type": "stream",
     "text": [
      "[20, 30, 40, 90, 50]\n",
      "[20, 30, 40, 50, 90]\n",
      "None\n"
     ]
    }
   ],
   "source": [
    "def bubble_sort_short(a_list):\n",
    "    for i in range(len(a_list) -1, 0, -1):\n",
    "        exchanges = False\n",
    "        for j in range(i):\n",
    "            if a_list[j] > a_list[j+1]:\n",
    "                exchanges = True\n",
    "                a_list[j], a_list[j+1] = a_list[j+1], a_list[j]\n",
    "        if not exchanges:\n",
    "            break\n",
    "a_list = [20,30,40,90,50]\n",
    "print(a_list)\n",
    "bubble_sort_short(a_list)\n",
    "print(a_list)\n",
    "print(bubble_sort_short(a_list))"
   ]
  },
  {
   "cell_type": "markdown",
   "metadata": {},
   "source": [
    "# Selection Sort"
   ]
  },
  {
   "cell_type": "code",
   "execution_count": 6,
   "metadata": {},
   "outputs": [
    {
     "name": "stdout",
     "output_type": "stream",
     "text": [
      "[54, 26, 93, 17, 77, 31, 44, 55, 20]\n",
      "[17, 20, 26, 31, 44, 54, 55, 77, 93]\n"
     ]
    }
   ],
   "source": [
    "def selection_sort(a_list):\n",
    "    for i, item in enumerate(a_list):\n",
    "        min_idx = len(a_list) - 1\n",
    "        for j in range(i, len(a_list)):\n",
    "            if a_list[j] < a_list[min_idx]:\n",
    "                min_idx = j\n",
    "        if min_idx != i:\n",
    "            a_list[min_idx], a_list[i] = a_list[i], a_list[min_idx]\n",
    "a_list = [54,26,93,17,77,31,44,55,20]\n",
    "print(a_list)\n",
    "selection_sort(a_list)\n",
    "print(a_list)"
   ]
  },
  {
   "cell_type": "markdown",
   "metadata": {},
   "source": [
    "O(n^2), faster than bubble sort"
   ]
  },
  {
   "cell_type": "markdown",
   "metadata": {},
   "source": [
    "# Insertion Sort"
   ]
  },
  {
   "cell_type": "code",
   "execution_count": 7,
   "metadata": {},
   "outputs": [
    {
     "name": "stdout",
     "output_type": "stream",
     "text": [
      "[54, 26, 93, 17, 77, 31, 44, 55, 20]\n",
      "[17, 20, 26, 31, 44, 54, 55, 77, 93]\n"
     ]
    }
   ],
   "source": [
    "def insertion_sort(a_list):\n",
    "    for i in range(1, len(a_list)):\n",
    "        cur_val = a_list[i]\n",
    "        cur_pos = i\n",
    "        while cur_pos > 0 and a_list[cur_pos - 1] > cur_val:\n",
    "            a_list[cur_pos] = a_list[cur_pos - 1]\n",
    "            cur_pos = cur_pos -1\n",
    "        a_list[cur_pos] = cur_val\n",
    "a_list = [54,26,93,17,77,31,44,55,20]\n",
    "print(a_list)\n",
    "insertion_sort(a_list)\n",
    "print(a_list)"
   ]
  },
  {
   "cell_type": "markdown",
   "metadata": {},
   "source": [
    "O(n^2), in best case, one comparison needs to be done on each pass"
   ]
  },
  {
   "cell_type": "markdown",
   "metadata": {},
   "source": [
    "# Shell Sort"
   ]
  },
  {
   "cell_type": "code",
   "execution_count": 3,
   "metadata": {},
   "outputs": [
    {
     "name": "stdout",
     "output_type": "stream",
     "text": [
      "After increments of size 3 the list is [17, 26, 31, 54, 77, 93]\n",
      "After increments of size 1 the list is [17, 26, 31, 54, 77, 93]\n",
      "[17, 26, 31, 54, 77, 93]\n"
     ]
    }
   ],
   "source": [
    "def shell_sort(a_list):\n",
    "    sublist_count = len(a_list) // 2\n",
    "    while sublist_count > 0:\n",
    "        for pos_start in range(sublist_count):\n",
    "            gap_insertion_sort(a_list, pos_start, sublist_count)\n",
    "        print('After increments of size', sublist_count,'the list is', a_list)\n",
    "        sublist_count = sublist_count // 2\n",
    "def gap_insertion_sort(a_list, start, gap):\n",
    "    for i in range(start+gap, len(a_list), gap):\n",
    "        cur_val = a_list[i]\n",
    "        cur_pos = i\n",
    "        while cur_pos >= gap and a_list[cur_pos - gap] > cur_val:\n",
    "            a_list[cur_pos] = a_list[cur_pos - gap]\n",
    "            cur_pos = cur_pos - gap\n",
    "        a_list[cur_pos] = cur_val\n",
    "a_list = [54, 26, 93, 17, 77, 31]\n",
    "shell_sort(a_list)\n",
    "print(a_list)"
   ]
  },
  {
   "cell_type": "markdown",
   "metadata": {},
   "source": [
    " between O(n) and O(n^2)"
   ]
  },
  {
   "cell_type": "markdown",
   "metadata": {},
   "source": [
    "# Merge Sort"
   ]
  },
  {
   "cell_type": "code",
   "execution_count": 1,
   "metadata": {},
   "outputs": [
    {
     "name": "stdout",
     "output_type": "stream",
     "text": [
      "Splitting [54, 59, 17, 19, 23, 11, 13, 31, 47, 107, 27]\n",
      "Splitting [54, 59, 17, 19, 23]\n",
      "Splitting [54, 59]\n",
      "Splitting [54]\n",
      "Merging [54]\n",
      "Splitting [59]\n",
      "Merging [59]\n",
      "Merging [54, 59]\n",
      "Splitting [17, 19, 23]\n",
      "Splitting [17]\n",
      "Merging [17]\n",
      "Splitting [19, 23]\n",
      "Splitting [19]\n",
      "Merging [19]\n",
      "Splitting [23]\n",
      "Merging [23]\n",
      "Merging [19, 23]\n",
      "Merging [17, 19, 23]\n",
      "Merging [17, 19, 23, 54, 59]\n",
      "Splitting [11, 13, 31, 47, 107, 27]\n",
      "Splitting [11, 13, 31]\n",
      "Splitting [11]\n",
      "Merging [11]\n",
      "Splitting [13, 31]\n",
      "Splitting [13]\n",
      "Merging [13]\n",
      "Splitting [31]\n",
      "Merging [31]\n",
      "Merging [13, 31]\n",
      "Merging [11, 13, 31]\n",
      "Splitting [47, 107, 27]\n",
      "Splitting [47]\n",
      "Merging [47]\n",
      "Splitting [107, 27]\n",
      "Splitting [107]\n",
      "Merging [107]\n",
      "Splitting [27]\n",
      "Merging [27]\n",
      "Merging [27, 107]\n",
      "Merging [27, 47, 107]\n",
      "Merging [11, 13, 27, 31, 47, 107]\n",
      "Merging [11, 13, 17, 19, 23, 27, 31, 47, 54, 59, 107]\n",
      "[11, 13, 17, 19, 23, 27, 31, 47, 54, 59, 107]\n"
     ]
    }
   ],
   "source": [
    "def merge_sort(a_list):\n",
    "    print('Splitting', a_list)\n",
    "    if len(a_list) > 1:\n",
    "        mid = len(a_list) // 2\n",
    "        left_half = a_list[:mid]\n",
    "        right_half = a_list[mid:]\n",
    "        merge_sort(left_half)\n",
    "        merge_sort(right_half)\n",
    "        i, j, k = 0, 0, 0\n",
    "        while i < len(left_half) and j < len(right_half):\n",
    "            if left_half[i] <= right_half[j]:\n",
    "                a_list[k] = left_half[i]\n",
    "                i = i+1\n",
    "            else:\n",
    "                a_list[k] = right_half[j]\n",
    "                j = j+1\n",
    "            k = k+1\n",
    "        while i < len(left_half):\n",
    "            a_list[k] = left_half[i]\n",
    "            i = i+1\n",
    "            k = k+1\n",
    "        while j < len(right_half):\n",
    "            a_list[k] = right_half[j]\n",
    "            j = j+1\n",
    "            k = k+1\n",
    "    print('Merging', a_list)\n",
    "    \n",
    "a_list = [54,59,17,19,23,11,13,31,47,107,27]\n",
    "merge_sort(a_list)\n",
    "print(a_list)"
   ]
  },
  {
   "cell_type": "markdown",
   "metadata": {},
   "source": [
    "O(nlogn)"
   ]
  },
  {
   "cell_type": "markdown",
   "metadata": {},
   "source": [
    "# Quick Sort"
   ]
  },
  {
   "cell_type": "code",
   "execution_count": 2,
   "metadata": {},
   "outputs": [
    {
     "name": "stdout",
     "output_type": "stream",
     "text": [
      "[11, 13, 17, 19, 23, 27, 31, 47, 54, 59, 107]\n"
     ]
    }
   ],
   "source": [
    "def quick_sort(a_list):\n",
    "    quick_sort_helper(a_list, 0, len(a_list) -1)\n",
    "def quick_sort_helper(a_list, first, last):\n",
    "    if first < last:\n",
    "        split = partition(a_list, first, last)\n",
    "        quick_sort_helper(a_list, first, split - 1)\n",
    "        quick_sort_helper(a_list,split + 1, last)\n",
    "def partition(a_list, first, last):\n",
    "    pivot_val = a_list[first]\n",
    "    left_mark = first + 1\n",
    "    right_mark = last\n",
    "    done = False\n",
    "    while not done:\n",
    "        while left_mark <= right_mark and a_list[left_mark] <= pivot_val:\n",
    "            left_mark = left_mark +1\n",
    "        while left_mark <= right_mark and a_list[right_mark] >= pivot_val:\n",
    "            right_mark = right_mark - 1\n",
    "        if right_mark < left_mark:\n",
    "            done = True\n",
    "        else:\n",
    "            a_list[left_mark], a_list[right_mark] = (\n",
    "            a_list[right_mark],\n",
    "            a_list[left_mark]\n",
    "            )\n",
    "    a_list[first], a_list[right_mark] = a_list[right_mark], a_list[first]\n",
    "    return right_mark\n",
    "a_list = [54,59,17,19,23,11,13,31,47,107,27]\n",
    "quick_sort(a_list)\n",
    "print(a_list)"
   ]
  },
  {
   "cell_type": "markdown",
   "metadata": {},
   "source": [
    "O(nlogn), worst case: O(n^2)"
   ]
  },
  {
   "cell_type": "code",
   "execution_count": null,
   "metadata": {},
   "outputs": [],
   "source": []
  }
 ],
 "metadata": {
  "kernelspec": {
   "display_name": "Python 3",
   "language": "python",
   "name": "python3"
  },
  "language_info": {
   "codemirror_mode": {
    "name": "ipython",
    "version": 3
   },
   "file_extension": ".py",
   "mimetype": "text/x-python",
   "name": "python",
   "nbconvert_exporter": "python",
   "pygments_lexer": "ipython3",
   "version": "3.8.3"
  }
 },
 "nbformat": 4,
 "nbformat_minor": 4
}
