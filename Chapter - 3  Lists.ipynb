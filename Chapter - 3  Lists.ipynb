{
 "cells": [
  {
   "cell_type": "code",
   "execution_count": 4,
   "metadata": {},
   "outputs": [
    {
     "name": "stdout",
     "output_type": "stream",
     "text": [
      "concatenation:            1.36 milliseconds\n",
      "appending:                0.06 milliseconds\n",
      "list comprehension:       0.03 milliseconds\n",
      "list range:               0.01 milliseconds\n"
     ]
    }
   ],
   "source": [
    "# listing 3\n",
    "def test1():\n",
    "    l = []\n",
    "    for i in range(1000):\n",
    "        l = l+[i]\n",
    "def test2():\n",
    "    l = []\n",
    "    for i in range(1000):\n",
    "        l.append(i)\n",
    "def test3():\n",
    "    l = [i for i in range(1000)]\n",
    "def test4():\n",
    "    l = list(range(1000))\n",
    "    \n",
    "from timeit import Timer\n",
    "t1 = Timer('test1()','from __main__ import test1')\n",
    "print(f'concatenation: {t1.timeit(number=1000):15.2f} milliseconds')\n",
    "t2 = Timer('test2()','from __main__ import test2')\n",
    "print(f'appending: {t2.timeit(number=1000):19.2f} milliseconds')\n",
    "t3 = Timer('test3()','from __main__ import test3')\n",
    "print(f'list comprehension: {t3.timeit(number=1000):10.2f} milliseconds')\n",
    "t4 = Timer('test4()','from __main__ import test4')\n",
    "print(f'list range: {t4.timeit(number=1000):18.2f} milliseconds')"
   ]
  },
  {
   "cell_type": "markdown",
   "metadata": {},
   "source": [
    "# listing 4"
   ]
  },
  {
   "cell_type": "code",
   "execution_count": 6,
   "metadata": {},
   "outputs": [
    {
     "name": "stdout",
     "output_type": "stream",
     "text": [
      "pop(0):    1.63458 milliseconds\n",
      "pop(0):     0.00006 milliseconds\n"
     ]
    }
   ],
   "source": [
    "pop_zero = Timer('x.pop(0)', 'from __main__ import x')\n",
    "pop_end = Timer('x.pop()', 'from __main__ import x')\n",
    "x = list(range(2000000))\n",
    "print(f'pop(0): {pop_zero.timeit(number=1000): 10.5f} milliseconds')\n",
    "x = list(range(2000000))\n",
    "print(f'pop(0): {pop_end.timeit(number=1000): 11.5f} milliseconds')\n"
   ]
  },
  {
   "cell_type": "markdown",
   "metadata": {},
   "source": [
    "# listng 5"
   ]
  },
  {
   "cell_type": "code",
   "execution_count": 9,
   "metadata": {},
   "outputs": [
    {
     "name": "stdout",
     "output_type": "stream",
     "text": [
      "n                  pop(0)          pop()\n",
      "1000000           0.80268        0.00006\n",
      "2000000           1.57998        0.00006\n",
      "3000000           2.29819        0.00005\n",
      "4000000           3.31173        0.00005\n",
      "5000000           3.92260        0.00005\n",
      "6000000           4.72840        0.00005\n",
      "7000000           5.42435        0.00005\n",
      "8000000           6.26400        0.00005\n",
      "9000000           7.08359        0.00005\n",
      "10000000          7.84880        0.00006\n",
      "11000000          8.54957        0.00006\n",
      "12000000          9.40086        0.00006\n",
      "13000000         10.27563        0.00006\n",
      "14000000         11.17076        0.00006\n",
      "15000000         11.92538        0.00007\n",
      "16000000         12.71754        0.00007\n",
      "17000000         13.53304        0.00007\n",
      "18000000         14.18702        0.00005\n",
      "19000000         14.81291        0.00006\n",
      "20000000         15.52567        0.00005\n"
     ]
    },
    {
     "ename": "KeyboardInterrupt",
     "evalue": "",
     "output_type": "error",
     "traceback": [
      "\u001b[0;31m---------------------------------------------------------------------------\u001b[0m",
      "\u001b[0;31mKeyboardInterrupt\u001b[0m                         Traceback (most recent call last)",
      "\u001b[0;32m<ipython-input-9-852721f48455>\u001b[0m in \u001b[0;36m<module>\u001b[0;34m\u001b[0m\n\u001b[1;32m      4\u001b[0m \u001b[0;32mfor\u001b[0m \u001b[0mi\u001b[0m \u001b[0;32min\u001b[0m \u001b[0mrange\u001b[0m\u001b[0;34m(\u001b[0m\u001b[0;36m1_000_000\u001b[0m\u001b[0;34m,\u001b[0m \u001b[0;36m100_000_001\u001b[0m\u001b[0;34m,\u001b[0m \u001b[0;36m1_000_000\u001b[0m\u001b[0;34m)\u001b[0m\u001b[0;34m:\u001b[0m\u001b[0;34m\u001b[0m\u001b[0;34m\u001b[0m\u001b[0m\n\u001b[1;32m      5\u001b[0m     \u001b[0mx\u001b[0m \u001b[0;34m=\u001b[0m \u001b[0mlist\u001b[0m\u001b[0;34m(\u001b[0m\u001b[0mrange\u001b[0m\u001b[0;34m(\u001b[0m\u001b[0mi\u001b[0m\u001b[0;34m)\u001b[0m\u001b[0;34m)\u001b[0m\u001b[0;34m\u001b[0m\u001b[0;34m\u001b[0m\u001b[0m\n\u001b[0;32m----> 6\u001b[0;31m     \u001b[0mpop_zero_t\u001b[0m \u001b[0;34m=\u001b[0m \u001b[0mpop_zero\u001b[0m\u001b[0;34m.\u001b[0m\u001b[0mtimeit\u001b[0m\u001b[0;34m(\u001b[0m\u001b[0mnumber\u001b[0m\u001b[0;34m=\u001b[0m\u001b[0;36m1000\u001b[0m\u001b[0;34m)\u001b[0m\u001b[0;34m\u001b[0m\u001b[0;34m\u001b[0m\u001b[0m\n\u001b[0m\u001b[1;32m      7\u001b[0m     \u001b[0mx\u001b[0m \u001b[0;34m=\u001b[0m \u001b[0mlist\u001b[0m\u001b[0;34m(\u001b[0m\u001b[0mrange\u001b[0m\u001b[0;34m(\u001b[0m\u001b[0mi\u001b[0m\u001b[0;34m)\u001b[0m\u001b[0;34m)\u001b[0m\u001b[0;34m\u001b[0m\u001b[0;34m\u001b[0m\u001b[0m\n\u001b[1;32m      8\u001b[0m     \u001b[0mpop_end_t\u001b[0m \u001b[0;34m=\u001b[0m \u001b[0mpop_end\u001b[0m\u001b[0;34m.\u001b[0m\u001b[0mtimeit\u001b[0m\u001b[0;34m(\u001b[0m\u001b[0mnumber\u001b[0m\u001b[0;34m=\u001b[0m\u001b[0;36m1000\u001b[0m\u001b[0;34m)\u001b[0m\u001b[0;34m\u001b[0m\u001b[0;34m\u001b[0m\u001b[0m\n",
      "\u001b[0;32m~/anaconda3/lib/python3.8/timeit.py\u001b[0m in \u001b[0;36mtimeit\u001b[0;34m(self, number)\u001b[0m\n\u001b[1;32m    175\u001b[0m         \u001b[0mgc\u001b[0m\u001b[0;34m.\u001b[0m\u001b[0mdisable\u001b[0m\u001b[0;34m(\u001b[0m\u001b[0;34m)\u001b[0m\u001b[0;34m\u001b[0m\u001b[0;34m\u001b[0m\u001b[0m\n\u001b[1;32m    176\u001b[0m         \u001b[0;32mtry\u001b[0m\u001b[0;34m:\u001b[0m\u001b[0;34m\u001b[0m\u001b[0;34m\u001b[0m\u001b[0m\n\u001b[0;32m--> 177\u001b[0;31m             \u001b[0mtiming\u001b[0m \u001b[0;34m=\u001b[0m \u001b[0mself\u001b[0m\u001b[0;34m.\u001b[0m\u001b[0minner\u001b[0m\u001b[0;34m(\u001b[0m\u001b[0mit\u001b[0m\u001b[0;34m,\u001b[0m \u001b[0mself\u001b[0m\u001b[0;34m.\u001b[0m\u001b[0mtimer\u001b[0m\u001b[0;34m)\u001b[0m\u001b[0;34m\u001b[0m\u001b[0;34m\u001b[0m\u001b[0m\n\u001b[0m\u001b[1;32m    178\u001b[0m         \u001b[0;32mfinally\u001b[0m\u001b[0;34m:\u001b[0m\u001b[0;34m\u001b[0m\u001b[0;34m\u001b[0m\u001b[0m\n\u001b[1;32m    179\u001b[0m             \u001b[0;32mif\u001b[0m \u001b[0mgcold\u001b[0m\u001b[0;34m:\u001b[0m\u001b[0;34m\u001b[0m\u001b[0;34m\u001b[0m\u001b[0m\n",
      "\u001b[0;32m~/anaconda3/lib/python3.8/timeit.py\u001b[0m in \u001b[0;36minner\u001b[0;34m(_it, _timer)\u001b[0m\n",
      "\u001b[0;31mKeyboardInterrupt\u001b[0m: "
     ]
    }
   ],
   "source": [
    "pop_zero = Timer('x.pop(0)', 'from __main__ import x')\n",
    "pop_end = Timer('x.pop()', 'from __main__ import x')\n",
    "print(f'{\"n\":10s}{\"pop(0)\":>15s}{\"pop()\":>15s}')\n",
    "for i in range(1_000_000, 100_000_001, 1_000_000):\n",
    "    x = list(range(i))\n",
    "    pop_zero_t = pop_zero.timeit(number=1000)\n",
    "    x = list(range(i))\n",
    "    pop_end_t = pop_end.timeit(number=1000)\n",
    "    print(f'{i:<10d}{pop_zero_t:>15.5f}{pop_end_t:>15.5f}')"
   ]
  },
  {
   "cell_type": "code",
   "execution_count": null,
   "metadata": {},
   "outputs": [],
   "source": []
  }
 ],
 "metadata": {
  "kernelspec": {
   "display_name": "Python 3",
   "language": "python",
   "name": "python3"
  },
  "language_info": {
   "codemirror_mode": {
    "name": "ipython",
    "version": 3
   },
   "file_extension": ".py",
   "mimetype": "text/x-python",
   "name": "python",
   "nbconvert_exporter": "python",
   "pygments_lexer": "ipython3",
   "version": "3.8.3"
  }
 },
 "nbformat": 4,
 "nbformat_minor": 4
}
