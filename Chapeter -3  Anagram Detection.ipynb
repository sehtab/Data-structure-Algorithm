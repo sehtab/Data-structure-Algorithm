{
 "cells": [
  {
   "cell_type": "markdown",
   "metadata": {},
   "source": [
    "# Anagram Detection\n",
    "## One string is an angram of another if the second is simply a rearrangemnt of the first"
   ]
  },
  {
   "cell_type": "markdown",
   "metadata": {},
   "source": [
    "# Solution 1: Checking Off"
   ]
  },
  {
   "cell_type": "code",
   "execution_count": 1,
   "metadata": {},
   "outputs": [
    {
     "name": "stdout",
     "output_type": "stream",
     "text": [
      "True\n",
      "True\n",
      "False\n"
     ]
    }
   ],
   "source": [
    "def anagram_solution_1(s1, s2):\n",
    "    still_ok = True\n",
    "    if len(s1) != len(s2):\n",
    "        still_ok = False\n",
    "\n",
    "    a_list = list(s2)\n",
    "    pos_1 = 0\n",
    "\n",
    "    while pos_1 < len(s1) and still_ok:\n",
    "        pos_2 = 0\n",
    "        found = False\n",
    "        while pos_2 < len(a_list) and not found:\n",
    "            if s1[pos_1] == a_list[pos_2]:\n",
    "                found = True\n",
    "            else:\n",
    "                pos_2 = pos_2 + 1\n",
    "\n",
    "        if found:\n",
    "            a_list[pos_2] = None\n",
    "        else:\n",
    "            still_ok = False\n",
    "\n",
    "        pos_1 = pos_1 + 1\n",
    "\n",
    "    return still_ok\n",
    "\n",
    "\n",
    "print(anagram_solution_1(\"apple\", \"pleap\"))  # expected: True\n",
    "print(anagram_solution_1(\"abcd\", \"dcba\"))  # expected: True\n",
    "print(anagram_solution_1(\"abcd\", \"dcda\"))  # expected: False\n"
   ]
  },
  {
   "cell_type": "markdown",
   "metadata": {},
   "source": [
    "# Solution 2: Sort & Compare"
   ]
  },
  {
   "cell_type": "code",
   "execution_count": 3,
   "metadata": {},
   "outputs": [
    {
     "name": "stdout",
     "output_type": "stream",
     "text": [
      "True\n",
      "True\n",
      "False\n"
     ]
    }
   ],
   "source": [
    "def anagram_sol2(s1,s2):\n",
    "    a_list_1 = list(s1)\n",
    "    a_list_2 = list(s2)\n",
    "    a_list_1.sort()\n",
    "    a_list_2.sort()\n",
    "    pos = 0\n",
    "    matches = True\n",
    "    while pos < len(s1) and matches:\n",
    "        if a_list_1[pos] == a_list_2[pos]:\n",
    "            pos = pos + 1\n",
    "        else:\n",
    "            matches = False\n",
    "    return matches\n",
    "print(anagram_sol2(\"apple\", \"pleap\"))  # expected: True\n",
    "print(anagram_sol2(\"abcd\", \"dcba\"))  # expected: True\n",
    "print(anagram_sol2(\"abcd\", \"dcda\"))  # expected: False"
   ]
  },
  {
   "cell_type": "markdown",
   "metadata": {},
   "source": [
    "# Solution 4: Count & Compare"
   ]
  },
  {
   "cell_type": "code",
   "execution_count": 4,
   "metadata": {},
   "outputs": [
    {
     "name": "stdout",
     "output_type": "stream",
     "text": [
      "True\n",
      "True\n",
      "False\n"
     ]
    }
   ],
   "source": [
    "def anagram_sol4(s1,s2):\n",
    "    c1 = [0]*26\n",
    "    c2 = [0]*26\n",
    "    for i in range(len(s1)):\n",
    "        pos = ord(s1[i]) - ord('a')\n",
    "        c1[pos] = c1[pos] + 1\n",
    "    for i in range(len(s2)):\n",
    "        pos = ord(s2[i]) - ord('a')\n",
    "        c2[pos] = c2[pos] + 1\n",
    "    j = 0\n",
    "    still_ok = True\n",
    "    while j < 26 and still_ok:\n",
    "        if c1[j] == c2[j]:\n",
    "            j = j+1\n",
    "        else:\n",
    "            still_ok = False\n",
    "    return still_ok\n",
    "print(anagram_sol4(\"apple\", \"pleap\"))  # expected: True\n",
    "print(anagram_sol4(\"abcd\", \"dcba\"))  # expected: True\n",
    "print(anagram_sol4(\"abcd\", \"dcda\"))  # expected: False"
   ]
  },
  {
   "cell_type": "code",
   "execution_count": null,
   "metadata": {},
   "outputs": [],
   "source": []
  }
 ],
 "metadata": {
  "kernelspec": {
   "display_name": "Python 3",
   "language": "python",
   "name": "python3"
  },
  "language_info": {
   "codemirror_mode": {
    "name": "ipython",
    "version": 3
   },
   "file_extension": ".py",
   "mimetype": "text/x-python",
   "name": "python",
   "nbconvert_exporter": "python",
   "pygments_lexer": "ipython3",
   "version": "3.8.3"
  }
 },
 "nbformat": 4,
 "nbformat_minor": 4
}
