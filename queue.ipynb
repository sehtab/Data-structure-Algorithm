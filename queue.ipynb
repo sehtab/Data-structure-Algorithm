{
 "cells": [
  {
   "cell_type": "code",
   "execution_count": 2,
   "metadata": {},
   "outputs": [
    {
     "name": "stdout",
     "output_type": "stream",
     "text": [
      "3\n",
      "None\n",
      "4\n",
      "4\n",
      "3\n"
     ]
    }
   ],
   "source": [
    "class queue:\n",
    "    \"\"\"queue implementation as a list\"\"\"\n",
    "    def __init__(self):\n",
    "        \"\"\"create new queue\"\"\"\n",
    "        self._items = []\n",
    "    def is_empty(self):\n",
    "        \"\"\"check if the queue is empty\"\"\"\n",
    "        return not bool(self._items)\n",
    "    def enqueue(self,item):\n",
    "        \"\"\"add an item to the queue\"\"\"\n",
    "        self._items.insert(0,item)\n",
    "    def dequeue(self):\n",
    "        \"\"\"remove an item from the queue\"\"\"\n",
    "        return self._items.pop()\n",
    "    def size(self):\n",
    "        \"\"\"get the number of items in the queue\"\"\"\n",
    "        return len(self._items)\n",
    "q = queue()\n",
    "q.enqueue(4)\n",
    "q.enqueue('dog')\n",
    "q.enqueue(True)\n",
    "print(q.size())\n",
    "print(q.enqueue(8.4))\n",
    "print(q.size())\n",
    "print(q.dequeue())\n",
    "print(q.size())"
   ]
  },
  {
   "cell_type": "markdown",
   "metadata": {},
   "source": [
    "# Simulation: Hot Potato"
   ]
  },
  {
   "cell_type": "code",
   "execution_count": 4,
   "metadata": {},
   "outputs": [
    {
     "name": "stdout",
     "output_type": "stream",
     "text": [
      "boga\n"
     ]
    }
   ],
   "source": [
    "class queue:\n",
    "    \"\"\"queue implementation as a list\"\"\"\n",
    "    def __init__(self):\n",
    "        \"\"\"create new queue\"\"\"\n",
    "        self._items = []\n",
    "    def is_empty(self):\n",
    "        \"\"\"check if the queue is empty\"\"\"\n",
    "        return not bool(self._items)\n",
    "    def enqueue(self,item):\n",
    "        \"\"\"add an item to the queue\"\"\"\n",
    "        self._items.insert(0,item)\n",
    "    def dequeue(self):\n",
    "        \"\"\"remove an item from the queue\"\"\"\n",
    "        return self._items.pop()\n",
    "    def size(self):\n",
    "        \"\"\"get the number of items in the queue\"\"\"\n",
    "        return len(self._items)\n",
    "def hot_potato(name_list,num):\n",
    "    sim_queue = queue()\n",
    "    for name in name_list:\n",
    "        sim_queue.enqueue(name)\n",
    "    while sim_queue.size() > 1:\n",
    "        for i in range(num):\n",
    "            sim_queue.enqueue(sim_queue.dequeue())\n",
    "        sim_queue.dequeue()\n",
    "    return sim_queue.dequeue()\n",
    "print(hot_potato(['boltu','poltu','boga','potai'],5))"
   ]
  },
  {
   "cell_type": "markdown",
   "metadata": {},
   "source": [
    "# Simulation: Printing Task "
   ]
  },
  {
   "cell_type": "code",
   "execution_count": 7,
   "metadata": {},
   "outputs": [
    {
     "name": "stdout",
     "output_type": "stream",
     "text": [
      "Average Wait  87.21 secs   0 tasks remaining.\n",
      "Average Wait  18.64 secs   0 tasks remaining.\n",
      "Average Wait 134.17 secs   0 tasks remaining.\n",
      "Average Wait  98.70 secs   4 tasks remaining.\n",
      "Average Wait  59.50 secs   2 tasks remaining.\n",
      "Average Wait  18.25 secs   0 tasks remaining.\n",
      "Average Wait 131.19 secs   0 tasks remaining.\n",
      "Average Wait  62.50 secs   0 tasks remaining.\n",
      "Average Wait 123.55 secs   1 tasks remaining.\n",
      "Average Wait 156.48 secs   4 tasks remaining.\n"
     ]
    }
   ],
   "source": [
    "class queue:\n",
    "    \"\"\"queue implementation as a list\"\"\"\n",
    "    def __init__(self):\n",
    "        \"\"\"create new queue\"\"\"\n",
    "        self._items = []\n",
    "    def is_empty(self):\n",
    "        \"\"\"check if the queue is empty\"\"\"\n",
    "        return not bool(self._items)\n",
    "    def enqueue(self,item):\n",
    "        \"\"\"add an item to the queue\"\"\"\n",
    "        self._items.insert(0,item)\n",
    "    def dequeue(self):\n",
    "        \"\"\"remove an item from the queue\"\"\"\n",
    "        return self._items.pop()\n",
    "    def size(self):\n",
    "        \"\"\"get the number of items in the queue\"\"\"\n",
    "        return len(self._items)\n",
    "import random\n",
    "class Printer:\n",
    "    def __init__(self, ppm):\n",
    "        self.page_rate = ppm\n",
    "        self.current_task = None\n",
    "        self.time_remaining = 0\n",
    "\n",
    "    def tick(self):\n",
    "        if self.current_task is not None:\n",
    "            self.time_remaining = self.time_remaining - 1\n",
    "            if self.time_remaining <= 0:\n",
    "                self.current_task = None\n",
    "\n",
    "    def busy(self):\n",
    "        return self.current_task is not None\n",
    "\n",
    "    def start_next(self, new_task):\n",
    "        self.current_task = new_task\n",
    "        self.time_remaining = new_task.get_pages() * 60 / self.page_rate\n",
    "\n",
    "\n",
    "class Task:\n",
    "    def __init__(self, time):\n",
    "        self.timestamp = time\n",
    "        self.pages = random.randrange(1, 21)\n",
    "\n",
    "    def get_stamp(self):\n",
    "        return self.timestamp\n",
    "\n",
    "    def get_pages(self):\n",
    "        return self.pages\n",
    "\n",
    "    def wait_time(self, current_time):\n",
    "        return current_time - self.timestamp\n",
    "\n",
    "\n",
    "def simulation(num_seconds, pages_per_minute):\n",
    "    lab_printer = Printer(pages_per_minute)\n",
    "    print_queue = queue()\n",
    "    waiting_times = []\n",
    "\n",
    "    for current_second in range(num_seconds):\n",
    "        if new_print_task():\n",
    "            task = Task(current_second)\n",
    "            print_queue.enqueue(task)\n",
    "\n",
    "        if (not lab_printer.busy()) and (not print_queue.is_empty()):\n",
    "            nexttask = print_queue.dequeue()\n",
    "            waiting_times.append(nexttask.wait_time(current_second))\n",
    "            lab_printer.start_next(nexttask)\n",
    "\n",
    "        lab_printer.tick()\n",
    "\n",
    "    average_wait = sum(waiting_times) / len(waiting_times)\n",
    "    print(\"Average Wait %6.2f secs %3d tasks remaining.\" % (average_wait, print_queue.size()))\n",
    "\n",
    "\n",
    "def new_print_task():\n",
    "    num = random.randrange(1, 181)\n",
    "    return num == 180\n",
    "\n",
    "\n",
    "for i in range(10):\n",
    "    simulation(3600, 5)\n"
   ]
  },
  {
   "cell_type": "markdown",
   "metadata": {},
   "source": [
    "# Deque - double ended queue"
   ]
  },
  {
   "cell_type": "code",
   "execution_count": 13,
   "metadata": {},
   "outputs": [
    {
     "name": "stdout",
     "output_type": "stream",
     "text": [
      "True\n",
      "5\n",
      "False\n",
      "8.4\n",
      "True\n"
     ]
    }
   ],
   "source": [
    "class Deque:\n",
    "    \"\"\"Deque implementation as a list\"\"\"\n",
    "\n",
    "    def __init__(self):\n",
    "        \"\"\"Create new deque\"\"\"\n",
    "        self._items = []\n",
    "\n",
    "    def is_empty(self):\n",
    "        \"\"\"Check if the deque is empty\"\"\"\n",
    "        return not bool(self._items)\n",
    "\n",
    "    def add_front(self, item):\n",
    "        \"\"\"Add an item to the front of the deque\"\"\"\n",
    "        self._items.append(item)\n",
    "\n",
    "    def add_rear(self, item):\n",
    "        \"\"\"Add an item to the rear of the deque\"\"\"\n",
    "        self._items.insert(0, item)\n",
    "\n",
    "    def remove_front(self):\n",
    "        \"\"\"Remove an item from the front of the deque\"\"\"\n",
    "        return self._items.pop()\n",
    "\n",
    "    def remove_rear(self):\n",
    "        \"\"\"Remove an item from the rear of the deque\"\"\"\n",
    "        return self._items.pop(0)\n",
    "\n",
    "    def size(self):\n",
    "        \"\"\"Get the number of items in the deque\"\"\"\n",
    "        return len(self._items)\n",
    "d = Deque()\n",
    "print(d.is_empty())\n",
    "d.add_rear(4)\n",
    "d.add_rear('dog')\n",
    "d.add_front('cat')\n",
    "d.add_front('cat')\n",
    "d.add_front(True)\n",
    "print(d.size())\n",
    "print(d.is_empty())\n",
    "d.add_rear(8.4)\n",
    "print(d.remove_rear())\n",
    "print(d.remove_front())   "
   ]
  },
  {
   "cell_type": "markdown",
   "metadata": {},
   "source": [
    "# Palindrome checker"
   ]
  },
  {
   "cell_type": "code",
   "execution_count": 14,
   "metadata": {},
   "outputs": [
    {
     "name": "stdout",
     "output_type": "stream",
     "text": [
      "False\n",
      "True\n"
     ]
    }
   ],
   "source": [
    "class Deque:\n",
    "    \"\"\"Deque implementation as a list\"\"\"\n",
    "\n",
    "    def __init__(self):\n",
    "        \"\"\"Create new deque\"\"\"\n",
    "        self._items = []\n",
    "\n",
    "    def is_empty(self):\n",
    "        \"\"\"Check if the deque is empty\"\"\"\n",
    "        return not bool(self._items)\n",
    "\n",
    "    def add_front(self, item):\n",
    "        \"\"\"Add an item to the front of the deque\"\"\"\n",
    "        self._items.append(item)\n",
    "\n",
    "    def add_rear(self, item):\n",
    "        \"\"\"Add an item to the rear of the deque\"\"\"\n",
    "        self._items.insert(0, item)\n",
    "\n",
    "    def remove_front(self):\n",
    "        \"\"\"Remove an item from the front of the deque\"\"\"\n",
    "        return self._items.pop()\n",
    "\n",
    "    def remove_rear(self):\n",
    "        \"\"\"Remove an item from the rear of the deque\"\"\"\n",
    "        return self._items.pop(0)\n",
    "\n",
    "    def size(self):\n",
    "        \"\"\"Get the number of items in the deque\"\"\"\n",
    "        return len(self._items)\n",
    "def pal_checker(a_string):\n",
    "    char_deque = Deque()\n",
    "    for ch in a_string:\n",
    "        char_deque.add_rear(ch)\n",
    "    while char_deque.size() > 1:\n",
    "        first = char_deque.remove_front()\n",
    "        last = char_deque.remove_rear()\n",
    "        if first != last:\n",
    "            return False\n",
    "    return True\n",
    "print(pal_checker('lsdjkhli'))\n",
    "print(pal_checker('radar'))"
   ]
  },
  {
   "cell_type": "code",
   "execution_count": null,
   "metadata": {},
   "outputs": [],
   "source": []
  }
 ],
 "metadata": {
  "kernelspec": {
   "display_name": "Python 3",
   "language": "python",
   "name": "python3"
  },
  "language_info": {
   "codemirror_mode": {
    "name": "ipython",
    "version": 3
   },
   "file_extension": ".py",
   "mimetype": "text/x-python",
   "name": "python",
   "nbconvert_exporter": "python",
   "pygments_lexer": "ipython3",
   "version": "3.8.3"
  }
 },
 "nbformat": 4,
 "nbformat_minor": 4
}
