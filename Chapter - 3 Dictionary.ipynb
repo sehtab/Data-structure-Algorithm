{
 "cells": [
  {
   "cell_type": "markdown",
   "metadata": {},
   "source": [
    "# lising  6\n",
    "## differece between list and dictionary\n"
   ]
  },
  {
   "cell_type": "code",
   "execution_count": 3,
   "metadata": {},
   "outputs": [
    {
     "name": "stdout",
     "output_type": "stream",
     "text": [
      "n               list      dict\n",
      "10,000         0.073     0.001\n",
      "30,000         0.228     0.001\n",
      "50,000         0.357     0.001\n",
      "70,000         0.480     0.001\n",
      "90,000         0.630     0.001\n",
      "110,000        0.726     0.001\n",
      "130,000        0.850     0.001\n",
      "150,000        0.954     0.001\n",
      "170,000        1.132     0.001\n",
      "190,000        1.243     0.001\n",
      "210,000        1.406     0.001\n",
      "230,000        1.504     0.001\n",
      "250,000        1.603     0.001\n",
      "270,000        1.807     0.001\n",
      "290,000        1.928     0.001\n",
      "310,000        2.078     0.001\n",
      "330,000        2.142     0.001\n",
      "350,000        2.342     0.001\n",
      "370,000        2.448     0.001\n",
      "390,000        2.485     0.001\n",
      "410,000        2.705     0.001\n",
      "430,000        2.818     0.001\n",
      "450,000        2.942     0.001\n",
      "470,000        3.042     0.001\n",
      "490,000        3.194     0.001\n",
      "510,000        3.450     0.001\n",
      "530,000        3.638     0.001\n",
      "550,000        3.758     0.001\n",
      "570,000        3.646     0.001\n",
      "590,000        3.862     0.001\n",
      "610,000        3.945     0.001\n",
      "630,000        4.104     0.001\n",
      "650,000        4.305     0.001\n",
      "670,000        4.257     0.001\n",
      "690,000        4.499     0.001\n",
      "710,000        4.648     0.001\n",
      "730,000        4.847     0.001\n",
      "750,000        4.933     0.001\n",
      "770,000        4.979     0.001\n",
      "790,000        5.217     0.001\n",
      "810,000        5.452     0.001\n",
      "830,000        5.305     0.001\n",
      "850,000        5.494     0.001\n",
      "870,000        5.545     0.001\n",
      "890,000        6.140     0.001\n",
      "910,000        5.806     0.001\n",
      "930,000        6.179     0.001\n",
      "950,000        6.186     0.001\n",
      "970,000        6.570     0.001\n",
      "990,000        6.540     0.001\n"
     ]
    }
   ],
   "source": [
    "import timeit\n",
    "import random\n",
    "print(f\"{'n':10s}{'list':>10s}{'dict':>10s}\")\n",
    "for i in range(10_000, 1_000_001, 20_000):\n",
    "    t = timeit.Timer(f\"random.randrange({i}) in x\",\n",
    "                    \"from __main__ import random, x\")\n",
    "    x = list(range(i))\n",
    "    lst_time = t.timeit(number=1000)\n",
    "    x = {j: None for j in range(i)}\n",
    "    dict_time = t.timeit(number=1000)\n",
    "    print(f\"{i:<10,}{lst_time:>10.3f}{dict_time:>10.3f}\")"
   ]
  },
  {
   "cell_type": "markdown",
   "metadata": {},
   "source": [
    "# Devise an experiment to verify that the list index operator is O(1)"
   ]
  },
  {
   "cell_type": "code",
   "execution_count": 5,
   "metadata": {},
   "outputs": [
    {
     "name": "stdout",
     "output_type": "stream",
     "text": [
      "10000,     0.0001\n",
      "30000,     0.0001\n",
      "50000,     0.0001\n",
      "70000,     0.0001\n",
      "90000,     0.0001\n",
      "110000,     0.0001\n",
      "130000,     0.0001\n",
      "150000,     0.0001\n",
      "170000,     0.0001\n",
      "190000,     0.0001\n",
      "210000,     0.0001\n",
      "230000,     0.0002\n",
      "250000,     0.0001\n",
      "270000,     0.0001\n",
      "290000,     0.0001\n",
      "310000,     0.0001\n",
      "330000,     0.0001\n",
      "350000,     0.0001\n",
      "370000,     0.0001\n",
      "390000,     0.0001\n",
      "410000,     0.0001\n",
      "430000,     0.0001\n",
      "450000,     0.0001\n",
      "470000,     0.0001\n",
      "490000,     0.0001\n",
      "510000,     0.0001\n",
      "530000,     0.0001\n",
      "550000,     0.0001\n",
      "570000,     0.0001\n",
      "590000,     0.0001\n",
      "610000,     0.0001\n",
      "630000,     0.0001\n",
      "650000,     0.0001\n",
      "670000,     0.0001\n",
      "690000,     0.0001\n",
      "710000,     0.0001\n",
      "730000,     0.0001\n",
      "750000,     0.0001\n",
      "770000,     0.0001\n",
      "790000,     0.0001\n",
      "810000,     0.0001\n",
      "830000,     0.0001\n",
      "850000,     0.0001\n",
      "870000,     0.0001\n",
      "890000,     0.0001\n",
      "910000,     0.0001\n",
      "930000,     0.0001\n",
      "950000,     0.0001\n",
      "970000,     0.0001\n",
      "990000,     0.0001\n"
     ]
    }
   ],
   "source": [
    "import timeit\n",
    "import random\n",
    "for i in range(10000,1000000,20000):\n",
    "    t = timeit.Timer(\"x[(random.randrange(%d))]\"%i,\n",
    "                    \"from __main__ import random,x\")\n",
    "    x = list(range(i))\n",
    "    indextime = t.timeit(number=100)\n",
    "    print(\"%d, %10.4f\" %(i, indextime))"
   ]
  },
  {
   "cell_type": "markdown",
   "metadata": {},
   "source": [
    "# Devise an experiment to verify that get item and set item are O(1) for dictionaries"
   ]
  },
  {
   "cell_type": "code",
   "execution_count": 6,
   "metadata": {},
   "outputs": [
    {
     "name": "stdout",
     "output_type": "stream",
     "text": [
      "10000,     0.0010,     0.0010\n",
      "30000,     0.0011,     0.0007\n",
      "50000,     0.0022,     0.0020\n",
      "70000,     0.0022,     0.0021\n",
      "90000,     0.0011,     0.0010\n",
      "110000,     0.0012,     0.0010\n",
      "130000,     0.0014,     0.0014\n",
      "150000,     0.0009,     0.0009\n",
      "170000,     0.0015,     0.0009\n",
      "190000,     0.0008,     0.0009\n",
      "210000,     0.0008,     0.0009\n",
      "230000,     0.0009,     0.0011\n",
      "250000,     0.0009,     0.0009\n",
      "270000,     0.0010,     0.0010\n",
      "290000,     0.0010,     0.0010\n",
      "310000,     0.0011,     0.0012\n",
      "330000,     0.0012,     0.0010\n",
      "350000,     0.0010,     0.0010\n",
      "370000,     0.0011,     0.0011\n",
      "390000,     0.0013,     0.0009\n",
      "410000,     0.0011,     0.0009\n",
      "430000,     0.0016,     0.0009\n",
      "450000,     0.0009,     0.0009\n",
      "470000,     0.0008,     0.0009\n",
      "490000,     0.0008,     0.0008\n",
      "510000,     0.0009,     0.0008\n",
      "530000,     0.0010,     0.0010\n",
      "550000,     0.0010,     0.0010\n",
      "570000,     0.0017,     0.0010\n",
      "590000,     0.0010,     0.0010\n",
      "610000,     0.0010,     0.0011\n",
      "630000,     0.0009,     0.0009\n",
      "650000,     0.0011,     0.0010\n",
      "670000,     0.0011,     0.0013\n",
      "690000,     0.0009,     0.0010\n",
      "710000,     0.0010,     0.0014\n",
      "730000,     0.0009,     0.0009\n",
      "750000,     0.0013,     0.0015\n",
      "770000,     0.0009,     0.0009\n",
      "790000,     0.0009,     0.0009\n",
      "810000,     0.0009,     0.0009\n",
      "830000,     0.0009,     0.0009\n",
      "850000,     0.0009,     0.0011\n",
      "870000,     0.0009,     0.0011\n",
      "890000,     0.0010,     0.0009\n",
      "910000,     0.0010,     0.0011\n",
      "930000,     0.0008,     0.0009\n",
      "950000,     0.0009,     0.0009\n",
      "970000,     0.0008,     0.0009\n",
      "990000,     0.0009,     0.0009\n"
     ]
    }
   ],
   "source": [
    "d = {}\n",
    "for i in range(10000, 1000000, 20000):\n",
    "    set_dict = timeit.Timer(\"x[(random.randrange(%d))]\" %i,\n",
    "                           \"from __main__ import random, x\")\n",
    "    get_dict = timeit.Timer(\"x.get(random.randrange(%d))\" %i,\n",
    "                           \"from __main__ import random, x\")\n",
    "    x = {j:None for j in range(i)}\n",
    "    set_time = set_dict.timeit(number=1000)\n",
    "    get_time = get_dict.timeit(number=1000)\n",
    "    print(\"%d, %10.4f, %10.4f\" %(i,get_time, set_time))"
   ]
  },
  {
   "cell_type": "markdown",
   "metadata": {},
   "source": [
    "# Devise an experiment that compares the performance of the del operator on lists and dictionaries"
   ]
  },
  {
   "cell_type": "code",
   "execution_count": 7,
   "metadata": {},
   "outputs": [
    {
     "name": "stdout",
     "output_type": "stream",
     "text": [
      "i\t\tlist_del_time\t\tdict_del_time\n",
      "10000      0.003                0.001\n",
      "30000      0.006                0.001\n",
      "50000      0.013                0.001\n",
      "70000      0.017                0.001\n",
      "90000      0.021                0.001\n",
      "110000      0.023                0.001\n",
      "130000      0.026                0.001\n",
      "150000      0.032                0.002\n",
      "170000      0.039                0.002\n",
      "190000      0.039                0.001\n",
      "210000      0.044                0.001\n",
      "230000      0.048                0.001\n",
      "250000      0.054                0.001\n",
      "270000      0.052                0.001\n",
      "290000      0.057                0.001\n",
      "310000      0.067                0.002\n",
      "330000      0.061                0.001\n",
      "350000      0.068                0.001\n",
      "370000      0.083                0.001\n",
      "390000      0.099                0.001\n",
      "410000      0.080                0.001\n",
      "430000      0.081                0.001\n",
      "450000      0.090                0.001\n",
      "470000      0.106                0.001\n",
      "490000      0.112                0.001\n",
      "510000      0.116                0.001\n",
      "530000      0.128                0.001\n",
      "550000      0.121                0.001\n",
      "570000      0.125                0.002\n",
      "590000      0.130                0.001\n",
      "610000      0.145                0.001\n",
      "630000      0.150                0.001\n",
      "650000      0.166                0.001\n",
      "670000      0.160                0.001\n",
      "690000      0.191                0.001\n",
      "710000      0.189                0.001\n",
      "730000      0.182                0.001\n",
      "750000      0.183                0.001\n",
      "770000      0.224                0.001\n",
      "790000      0.220                0.001\n",
      "810000      0.216                0.001\n",
      "830000      0.223                0.001\n",
      "850000      0.227                0.001\n",
      "870000      0.244                0.001\n",
      "890000      0.240                0.001\n",
      "910000      0.247                0.001\n",
      "930000      0.298                0.001\n",
      "950000      0.275                0.002\n",
      "970000      0.314                0.001\n",
      "990000      0.293                0.001\n"
     ]
    }
   ],
   "source": [
    "import timeit\n",
    "import random\n",
    "def del_dict_items(x):\n",
    "    # insert the index\n",
    "    random_index = random.randrange(len(x) - 1)\n",
    "    try:\n",
    "        del x[random_index]\n",
    "    except KeyError:\n",
    "        x.setdefault(random_index, None)\n",
    "        del x[random_index]\n",
    "print(\"i\\t\\tlist_del_time\\t\\tdict_del_time\")\n",
    "for i in range(10000, 1000000, 20000):\n",
    "    t_list = timeit.Timer(\"del x[random.randrange(len(x)-1)]\",\"from __main__ import random, x\")\n",
    "    t_dict = timeit.Timer(\"del_dict_items(x)\", \"from __main__ import random, x, del_dict_items\")\n",
    "    x = list(range(i))\n",
    "    list_del_time = t_list.timeit(number=1000)\n",
    "    x = {j:None for j in range(i)}\n",
    "    dict_del_time = t_dict.timeit(number=1000)\n",
    "    print(\"%d %10.3f %20.3f\" %(i,list_del_time, dict_del_time))"
   ]
  },
  {
   "cell_type": "markdown",
   "metadata": {},
   "source": [
    "# given a list of numbers in random order, write an algorithm that works in O(nlog(n)) to find the kth smallest number in the list"
   ]
  },
  {
   "cell_type": "code",
   "execution_count": 8,
   "metadata": {},
   "outputs": [
    {
     "ename": "IndexError",
     "evalue": "list index out of range",
     "output_type": "error",
     "traceback": [
      "\u001b[0;31m---------------------------------------------------------------------------\u001b[0m",
      "\u001b[0;31mIndexError\u001b[0m                                Traceback (most recent call last)",
      "\u001b[0;32m<ipython-input-8-b1c85e57a16b>\u001b[0m in \u001b[0;36m<module>\u001b[0;34m\u001b[0m\n\u001b[1;32m      9\u001b[0m \u001b[0;32mwhile\u001b[0m \u001b[0mi\u001b[0m\u001b[0;34m<=\u001b[0m\u001b[0mb\u001b[0m\u001b[0;34m:\u001b[0m\u001b[0;34m\u001b[0m\u001b[0;34m\u001b[0m\u001b[0m\n\u001b[1;32m     10\u001b[0m     \u001b[0mpos\u001b[0m \u001b[0;34m=\u001b[0m \u001b[0ml\u001b[0m\u001b[0;34m[\u001b[0m\u001b[0mi\u001b[0m\u001b[0;34m]\u001b[0m \u001b[0;34m-\u001b[0m \u001b[0ma\u001b[0m\u001b[0;34m\u001b[0m\u001b[0;34m\u001b[0m\u001b[0m\n\u001b[0;32m---> 11\u001b[0;31m     \u001b[0mch\u001b[0m\u001b[0;34m[\u001b[0m\u001b[0mpos\u001b[0m\u001b[0;34m]\u001b[0m \u001b[0;34m=\u001b[0m \u001b[0mch\u001b[0m\u001b[0;34m[\u001b[0m\u001b[0mpos\u001b[0m\u001b[0;34m]\u001b[0m \u001b[0;34m+\u001b[0m \u001b[0;36m1\u001b[0m\u001b[0;34m\u001b[0m\u001b[0;34m\u001b[0m\u001b[0m\n\u001b[0m\u001b[1;32m     12\u001b[0m     \u001b[0mi\u001b[0m \u001b[0;34m+=\u001b[0m \u001b[0;36m1\u001b[0m\u001b[0;34m\u001b[0m\u001b[0;34m\u001b[0m\u001b[0m\n\u001b[1;32m     13\u001b[0m \u001b[0msum\u001b[0m \u001b[0;34m=\u001b[0m \u001b[0;36m0\u001b[0m\u001b[0;34m\u001b[0m\u001b[0;34m\u001b[0m\u001b[0m\n",
      "\u001b[0;31mIndexError\u001b[0m: list index out of range"
     ]
    }
   ],
   "source": [
    "import random\n",
    "# creating random list\n",
    "l = list(range(1000))\n",
    "random.shuffle(l)\n",
    "a = min(l)\n",
    "b = max(l)\n",
    "ch = [0 for i in range(a,b)]\n",
    "i = a\n",
    "while i<=b:\n",
    "    pos = l[i] - a\n",
    "    ch[pos] = ch[pos] + 1\n",
    "    i += 1\n",
    "sum = 0\n",
    "pos = 0\n",
    "k = int(input('Enter the value of kth element to find'))\n",
    "while sum<k:\n",
    "    sum = ch[pos] + sum\n",
    "    pos = pos + 1\n",
    "x = ch[pos-1] + a\n",
    "print(\"%d is the Kth element of the list\" % (x))"
   ]
  },
  {
   "cell_type": "code",
   "execution_count": 11,
   "metadata": {},
   "outputs": [
    {
     "ename": "NameError",
     "evalue": "name 'maxN' is not defined",
     "output_type": "error",
     "traceback": [
      "\u001b[0;31m---------------------------------------------------------------------------\u001b[0m",
      "\u001b[0;31mNameError\u001b[0m                                 Traceback (most recent call last)",
      "\u001b[0;32m<ipython-input-11-e72c19e36caa>\u001b[0m in \u001b[0;36m<module>\u001b[0;34m\u001b[0m\n\u001b[0;32m----> 1\u001b[0;31m \u001b[0;32mfor\u001b[0m \u001b[0mn\u001b[0m \u001b[0;32min\u001b[0m \u001b[0mmaxN\u001b[0m\u001b[0;34m:\u001b[0m\u001b[0;34m\u001b[0m\u001b[0;34m\u001b[0m\u001b[0m\n\u001b[0m\u001b[1;32m      2\u001b[0m      \u001b[0malist\u001b[0m \u001b[0;34m=\u001b[0m \u001b[0mrange\u001b[0m\u001b[0;34m(\u001b[0m\u001b[0mn\u001b[0m\u001b[0;34m)\u001b[0m\u001b[0;34m\u001b[0m\u001b[0;34m\u001b[0m\u001b[0m\n\u001b[1;32m      3\u001b[0m      \u001b[0madict\u001b[0m \u001b[0;34m=\u001b[0m \u001b[0;34m{\u001b[0m\u001b[0;34m}\u001b[0m\u001b[0;34m\u001b[0m\u001b[0;34m\u001b[0m\u001b[0m\n\u001b[1;32m      4\u001b[0m      \u001b[0;32mfor\u001b[0m \u001b[0mj\u001b[0m \u001b[0;32min\u001b[0m \u001b[0mxrange\u001b[0m\u001b[0;34m(\u001b[0m\u001b[0mn\u001b[0m\u001b[0;34m)\u001b[0m\u001b[0;34m:\u001b[0m\u001b[0;34m\u001b[0m\u001b[0;34m\u001b[0m\u001b[0m\n\u001b[1;32m      5\u001b[0m          \u001b[0madict\u001b[0m\u001b[0;34m[\u001b[0m\u001b[0mj\u001b[0m\u001b[0;34m]\u001b[0m \u001b[0;34m=\u001b[0m \u001b[0;32mNone\u001b[0m\u001b[0;34m\u001b[0m\u001b[0;34m\u001b[0m\u001b[0m\n",
      "\u001b[0;31mNameError\u001b[0m: name 'maxN' is not defined"
     ]
    }
   ],
   "source": [
    "for n in maxN:\n",
    "     alist = range(n)\n",
    "     adict = {}\n",
    "     for j in xrange(n):\n",
    "         adict[j] = None\n",
    "     random_index = random.randint(0, n-1)\n",
    "\n",
    "     start1 = time.time()\n",
    "     del_in_list(alist, random_index)\n",
    "     end1 = time.time()\n",
    "\n",
    "     start2 = time.time()\n",
    "     del_in_dict(adict, random_index)\n",
    "     end2 = time.time()\n",
    "\n",
    "     start3 = time.time()\n",
    "     empty(adict, random_index)\n",
    "     end3 = time.time()\n",
    "\n",
    "     y1.append(end1-start1-(end3-start3))\n",
    "     y2.append(end2-start2-(end3-start3)) \n",
    "\n",
    "plt.plot(maxN,y1, \"r--\", maxN, y2)\n",
    "plt.show()"
   ]
  },
  {
   "cell_type": "code",
   "execution_count": 13,
   "metadata": {},
   "outputs": [
    {
     "name": "stdout",
     "output_type": "stream",
     "text": [
      "K'th smallest element is 5\n"
     ]
    }
   ],
   "source": [
    "def kthsmallest(arr,n,k):\n",
    "    arr.sort()\n",
    "    return arr[k-1]\n",
    "# driver code\n",
    "if __name__ == '__main__':\n",
    "    arr = [12,3,5,7,9]\n",
    "    n = len(arr)\n",
    "    k = 2\n",
    "    print(\"K'th smallest element is\", kthsmallest(arr,n,k))\n"
   ]
  },
  {
   "cell_type": "code",
   "execution_count": null,
   "metadata": {},
   "outputs": [],
   "source": []
  }
 ],
 "metadata": {
  "kernelspec": {
   "display_name": "Python 3",
   "language": "python",
   "name": "python3"
  },
  "language_info": {
   "codemirror_mode": {
    "name": "ipython",
    "version": 3
   },
   "file_extension": ".py",
   "mimetype": "text/x-python",
   "name": "python",
   "nbconvert_exporter": "python",
   "pygments_lexer": "ipython3",
   "version": "3.8.3"
  }
 },
 "nbformat": 4,
 "nbformat_minor": 4
}
