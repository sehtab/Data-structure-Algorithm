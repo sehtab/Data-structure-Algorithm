{
 "cells": [
  {
   "cell_type": "markdown",
   "metadata": {},
   "source": [
    "# Graph"
   ]
  },
  {
   "cell_type": "code",
   "execution_count": 1,
   "metadata": {},
   "outputs": [
    {
     "name": "stdout",
     "output_type": "stream",
     "text": [
      "{0: <__main__.vertex object at 0x7f98ec3147f0>, 1: <__main__.vertex object at 0x7f98ec3148e0>, 2: <__main__.vertex object at 0x7f98ec314eb0>, 3: <__main__.vertex object at 0x7f98ec314f40>, 4: <__main__.vertex object at 0x7f98ec314fa0>, 5: <__main__.vertex object at 0x7f98ec310040>}\n",
      "(0, 1)\n",
      "(0, 5)\n",
      "(1, 2)\n",
      "(3, 4)\n",
      "(3, 5)\n",
      "(4, 0)\n",
      "(5, 4)\n",
      "(5, 2)\n"
     ]
    }
   ],
   "source": [
    "class vertex:\n",
    "    def __init__(self,key):\n",
    "        self.id = key\n",
    "        self.connectedto = {}\n",
    "    def addneighbor(self,nbr,weight=0):\n",
    "        self.connectedto[nbr] = weight\n",
    "    def __str__(self):\n",
    "        return str(self.id) + 'connectedto: ' + str([x.id for x in self.connectedto])\n",
    "    def getconnections(self):\n",
    "        return self.connectedto.keys()\n",
    "    def getid(self):\n",
    "        return self.id\n",
    "    def getweight(self,nbr):\n",
    "        return self.connectedto[nbr]\n",
    "class graph:\n",
    "    def __init__(self):\n",
    "        self.vertlist = {}\n",
    "        self.numvertices = 0\n",
    "    def addvertex(self,key):\n",
    "        self.numvertices = self.numvertices + 1\n",
    "        newvertex = vertex(key)\n",
    "        self.vertlist[key] = newvertex\n",
    "        return newvertex\n",
    "    def getvertex(self,n):\n",
    "        if n in self.vertlist:\n",
    "            return self.vertlist[n]\n",
    "        else:\n",
    "            return None\n",
    "    def __contains__(self,n):\n",
    "        return n in self.vertlist\n",
    "    def addedge(self,f,t,weight=0):\n",
    "        if f not in self.vertlist:\n",
    "            nv = self.addvertex(f)\n",
    "        if t not in self.vertlist:\n",
    "            nv = self.addvertex(t)\n",
    "        self.vertlist[f].addneighbor(self.vertlist[t],weight)\n",
    "    def getvertices(self):\n",
    "        return self.vertlist.keys()\n",
    "    def __iter__(self):\n",
    "        return iter(self.vertlist.values())\n",
    "g = graph()\n",
    "for i in range(6):\n",
    "    g.addvertex(i)\n",
    "print(g.vertlist)\n",
    "g.addedge(0,1,5)\n",
    "g.addedge(0,5,2)\n",
    "g.addedge(1,2,4)\n",
    "g.addedge(3,4,7)\n",
    "g.addedge(3,5,3)\n",
    "g.addedge(4,0,1)\n",
    "g.addedge(5,4,8)\n",
    "g.addedge(5,2,1)\n",
    "for v in g:\n",
    "    for w in v.getconnections():\n",
    "        print('(%s, %s)' %(v.getid(),w.getid()))"
   ]
  },
  {
   "cell_type": "code",
   "execution_count": null,
   "metadata": {},
   "outputs": [],
   "source": []
  }
 ],
 "metadata": {
  "kernelspec": {
   "display_name": "Python 3",
   "language": "python",
   "name": "python3"
  },
  "language_info": {
   "codemirror_mode": {
    "name": "ipython",
    "version": 3
   },
   "file_extension": ".py",
   "mimetype": "text/x-python",
   "name": "python",
   "nbconvert_exporter": "python",
   "pygments_lexer": "ipython3",
   "version": "3.8.3"
  }
 },
 "nbformat": 4,
 "nbformat_minor": 4
}
