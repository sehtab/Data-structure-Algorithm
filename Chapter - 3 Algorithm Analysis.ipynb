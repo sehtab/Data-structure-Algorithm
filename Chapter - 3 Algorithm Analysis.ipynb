{
 "cells": [
  {
   "cell_type": "code",
   "execution_count": 1,
   "metadata": {},
   "outputs": [
    {
     "name": "stdout",
     "output_type": "stream",
     "text": [
      "55\n"
     ]
    }
   ],
   "source": [
    "def sum_of_n(n):\n",
    "    the_sum = 0     # accumulator variable\n",
    "    for i in range(1, n+1):\n",
    "        the_sum = the_sum + i\n",
    "    return the_sum\n",
    "print(sum_of_n(10))"
   ]
  },
  {
   "cell_type": "code",
   "execution_count": 2,
   "metadata": {},
   "outputs": [
    {
     "name": "stdout",
     "output_type": "stream",
     "text": [
      "55\n"
     ]
    }
   ],
   "source": [
    "def foo(tom):\n",
    "    fred = 0\n",
    "    for bill in range(1, tom+1):\n",
    "        barney = bill\n",
    "        fred = fred + barney\n",
    "    return fred\n",
    "print(foo(10))"
   ]
  },
  {
   "cell_type": "markdown",
   "metadata": {},
   "source": [
    "# Listing 1"
   ]
  },
  {
   "cell_type": "code",
   "execution_count": 4,
   "metadata": {},
   "outputs": [
    {
     "name": "stdout",
     "output_type": "stream",
     "text": [
      "Sum is 5000050000 required  0.0062377 seconds\n",
      "Sum is 5000050000 required  0.0074553 seconds\n",
      "Sum is 5000050000 required  0.0087769 seconds\n",
      "Sum is 5000050000 required  0.0053909 seconds\n",
      "Sum is 5000050000 required  0.0073085 seconds\n"
     ]
    }
   ],
   "source": [
    "import time\n",
    "def sum_of_n_2(n):\n",
    "    start = time.time()\n",
    "    the_sum = 0\n",
    "    for i in range(1,n+1):\n",
    "        the_sum = the_sum+i\n",
    "    end = time.time()\n",
    "    return the_sum, end-start\n",
    "for i in range(5):\n",
    "    print('Sum is %d required %10.7f seconds' % sum_of_n_2(100000))"
   ]
  },
  {
   "cell_type": "code",
   "execution_count": 5,
   "metadata": {},
   "outputs": [
    {
     "name": "stdout",
     "output_type": "stream",
     "text": [
      "55.0\n"
     ]
    }
   ],
   "source": [
    "def sum_of_n_3(n):\n",
    "    return (n*(n+1))/2\n",
    "print(sum_of_n_3(10))"
   ]
  },
  {
   "cell_type": "markdown",
   "metadata": {},
   "source": [
    "# Self check\n",
    "## the first function compare each number to every other number on the list O(n^2)"
   ]
  },
  {
   "cell_type": "code",
   "execution_count": 9,
   "metadata": {},
   "outputs": [
    {
     "name": "stdout",
     "output_type": "stream",
     "text": [
      "0\n",
      "0\n",
      "size: 100 time : 0.001864\n",
      "0\n",
      "size: 200 time : 0.004069\n",
      "0\n",
      "size: 300 time : 0.008646\n",
      "2\n",
      "size: 400 time : 0.008633\n",
      "2\n",
      "size: 500 time : 0.009179\n",
      "2\n",
      "size: 600 time : 0.011400\n",
      "2\n",
      "size: 700 time : 0.019431\n",
      "0\n",
      "size: 800 time : 0.024654\n",
      "0\n",
      "size: 900 time : 0.030775\n"
     ]
    }
   ],
   "source": [
    "def findmin(alist):\n",
    "    overallmin = alist[0]\n",
    "    for i in alist:\n",
    "        issmallest = True\n",
    "        for j in alist:\n",
    "            if i > j:\n",
    "                issmallest = False\n",
    "        if issmallest:\n",
    "            overallmin = i\n",
    "    return overallmin\n",
    "print(findmin([5,4,2,1,0]))\n",
    "import time\n",
    "from random import randrange\n",
    "for listsize in range(100,1000,100):\n",
    "    alist = [randrange(1000) for x in range(listsize)]\n",
    "    start = time.time()\n",
    "    print(findmin(alist))\n",
    "    end = time.time()\n",
    "    print('size: %d time : %f' %(listsize, end-start))"
   ]
  },
  {
   "cell_type": "markdown",
   "metadata": {},
   "source": [
    "## the  function compare each number to every other number on the list O(n)"
   ]
  },
  {
   "cell_type": "code",
   "execution_count": 11,
   "metadata": {},
   "outputs": [
    {
     "name": "stdout",
     "output_type": "stream",
     "text": [
      "1\n",
      "17\n",
      "size: 100 time : 0.000035\n",
      "7\n",
      "size: 200 time : 0.000026\n",
      "1\n",
      "size: 300 time : 0.000029\n",
      "1\n",
      "size: 400 time : 0.000031\n",
      "0\n",
      "size: 500 time : 0.000037\n",
      "0\n",
      "size: 600 time : 0.000037\n",
      "0\n",
      "size: 700 time : 0.000040\n",
      "4\n",
      "size: 800 time : 0.000051\n",
      "0\n",
      "size: 900 time : 0.000094\n"
     ]
    }
   ],
   "source": [
    "\n",
    "import time\n",
    "from random import randrange\n",
    "def findmin(alist):\n",
    "    minsofar = alist[0]\n",
    "    for i in alist:\n",
    "        if i < minsofar:\n",
    "            minsofar = i\n",
    "    return minsofar\n",
    "print(findmin([5,4,3,1,2]))\n",
    "for listsize in range(100,1000,100):\n",
    "    alist = [randrange(1000) for x in range(listsize)]\n",
    "    start = time.time()\n",
    "    print(findmin(alist))\n",
    "    end = time.time()\n",
    "    print('size: %d time : %f' %(listsize, end-start))"
   ]
  },
  {
   "cell_type": "code",
   "execution_count": null,
   "metadata": {},
   "outputs": [],
   "source": []
  }
 ],
 "metadata": {
  "kernelspec": {
   "display_name": "Python 3",
   "language": "python",
   "name": "python3"
  },
  "language_info": {
   "codemirror_mode": {
    "name": "ipython",
    "version": 3
   },
   "file_extension": ".py",
   "mimetype": "text/x-python",
   "name": "python",
   "nbconvert_exporter": "python",
   "pygments_lexer": "ipython3",
   "version": "3.8.3"
  }
 },
 "nbformat": 4,
 "nbformat_minor": 4
}
