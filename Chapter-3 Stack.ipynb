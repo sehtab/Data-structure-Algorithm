{
 "cells": [
  {
   "cell_type": "code",
   "execution_count": 3,
   "metadata": {},
   "outputs": [
    {
     "name": "stdout",
     "output_type": "stream",
     "text": [
      "True\n",
      "dog\n",
      "3\n",
      "False\n",
      "8.4\n",
      "True\n",
      "2\n"
     ]
    }
   ],
   "source": [
    "class stack:\n",
    "    \"\"\"stack implementation as a list\"\"\"\n",
    "    def __init__(self):\n",
    "        \"\"\"create new stack\"\"\"\n",
    "        self._items = []\n",
    "    def is_empty(self):\n",
    "        \"\"\"check if the stack is empty\"\"\"\n",
    "        return not bool(self._items)\n",
    "    def push(self,item):\n",
    "        \"\"\"Add an item to the stack\"\"\"\n",
    "        self._items.append(item)\n",
    "    def pop(self):\n",
    "        \"\"\"remove an item from the stack\"\"\"\n",
    "        return self._items.pop()\n",
    "    def peek(self):\n",
    "        \"\"\"get the value of the top item in the stack\"\"\"\n",
    "        return self._items[-1]\n",
    "    def size(self):\n",
    "        \"\"\"get the number of items in the stack\"\"\"\n",
    "        return len(self._items)\n",
    "s = stack()\n",
    "print(s.is_empty())\n",
    "s.push(4)\n",
    "s.push('dog')\n",
    "print(s.peek())\n",
    "s.push(True)\n",
    "print(s.size())\n",
    "print(s.is_empty())\n",
    "s.push(8.4)\n",
    "print(s.pop())\n",
    "print(s.pop())\n",
    "print(s.size())"
   ]
  },
  {
   "cell_type": "markdown",
   "metadata": {},
   "source": [
    "# write a function rev_string(my_str) that uses a stack to reverse the characters in a string"
   ]
  },
  {
   "cell_type": "code",
   "execution_count": 5,
   "metadata": {},
   "outputs": [
    {
     "ename": "ImportError",
     "evalue": "cannot import name 'testEqual' from 'test' (/home/altair/anaconda3/lib/python3.8/test/__init__.py)",
     "output_type": "error",
     "traceback": [
      "\u001b[0;31m---------------------------------------------------------------------------\u001b[0m",
      "\u001b[0;31mImportError\u001b[0m                               Traceback (most recent call last)",
      "\u001b[0;32m<ipython-input-5-c5cd0321b419>\u001b[0m in \u001b[0;36m<module>\u001b[0;34m\u001b[0m\n\u001b[1;32m     19\u001b[0m         \u001b[0;34m\"\"\"get the number of items in the stack\"\"\"\u001b[0m\u001b[0;34m\u001b[0m\u001b[0;34m\u001b[0m\u001b[0m\n\u001b[1;32m     20\u001b[0m         \u001b[0;32mreturn\u001b[0m \u001b[0mlen\u001b[0m\u001b[0;34m(\u001b[0m\u001b[0mself\u001b[0m\u001b[0;34m.\u001b[0m\u001b[0m_items\u001b[0m\u001b[0;34m)\u001b[0m\u001b[0;34m\u001b[0m\u001b[0;34m\u001b[0m\u001b[0m\n\u001b[0;32m---> 21\u001b[0;31m \u001b[0;32mfrom\u001b[0m \u001b[0mtest\u001b[0m \u001b[0;32mimport\u001b[0m \u001b[0mtestEqual\u001b[0m\u001b[0;34m\u001b[0m\u001b[0;34m\u001b[0m\u001b[0m\n\u001b[0m\u001b[1;32m     22\u001b[0m \u001b[0;32mdef\u001b[0m \u001b[0mrevstring\u001b[0m\u001b[0;34m(\u001b[0m\u001b[0mmystr\u001b[0m\u001b[0;34m)\u001b[0m\u001b[0;34m:\u001b[0m\u001b[0;34m\u001b[0m\u001b[0;34m\u001b[0m\u001b[0m\n\u001b[1;32m     23\u001b[0m     \u001b[0mmystack\u001b[0m \u001b[0;34m=\u001b[0m \u001b[0mstack\u001b[0m\u001b[0;34m(\u001b[0m\u001b[0;34m)\u001b[0m\u001b[0;34m\u001b[0m\u001b[0;34m\u001b[0m\u001b[0m\n",
      "\u001b[0;31mImportError\u001b[0m: cannot import name 'testEqual' from 'test' (/home/altair/anaconda3/lib/python3.8/test/__init__.py)"
     ]
    }
   ],
   "source": [
    "class stack:\n",
    "    \"\"\"stack implementation as a list\"\"\"\n",
    "    def __init__(self):\n",
    "        \"\"\"create new stack\"\"\"\n",
    "        self._items = []\n",
    "    def is_empty(self):\n",
    "        \"\"\"check if the stack is empty\"\"\"\n",
    "        return not bool(self._items)\n",
    "    def push(self,item):\n",
    "        \"\"\"Add an item to the stack\"\"\"\n",
    "        self._items.append(item)\n",
    "    def pop(self):\n",
    "        \"\"\"remove an item from the stack\"\"\"\n",
    "        return self._items.pop()\n",
    "    def peek(self):\n",
    "        \"\"\"get the value of the top item in the stack\"\"\"\n",
    "        return self._items[-1]\n",
    "    def size(self):\n",
    "        \"\"\"get the number of items in the stack\"\"\"\n",
    "        return len(self._items)\n",
    "from test import testEqual\n",
    "def revstring(mystr):\n",
    "    mystack = stack()\n",
    "    for ch in mystr:\n",
    "        mystack.push(ch)\n",
    "    revstr = \" \"\n",
    "    while not mystack.is_empty():\n",
    "        revstr = revstr+mystack.pop()\n",
    "    return revstr\n",
    "testEqual(revstring('apple'), 'elppa')\n",
    "testEqual(revstring('x'), 'x')\n"
   ]
  },
  {
   "cell_type": "code",
   "execution_count": 6,
   "metadata": {},
   "outputs": [
    {
     "name": "stdout",
     "output_type": "stream",
     "text": [
      "Reversed string is ziuQskeeG\n"
     ]
    }
   ],
   "source": [
    "# Python program to reverse a string using stack\n",
    " \n",
    "# Function to create an empty stack.\n",
    "# It initializes size of stack as 0\n",
    "def createStack():\n",
    "    stack=[]\n",
    "    return stack\n",
    " \n",
    "# Function to determine the size of the stack\n",
    "def size(stack):\n",
    "    return len(stack)\n",
    " \n",
    "# Stack is empty if the size is 0\n",
    "def isEmpty(stack):\n",
    "    if size(stack) == 0:\n",
    "        return true\n",
    " \n",
    "# Function to add an item to stack .\n",
    "# It increases size by 1\n",
    "def push(stack,item):\n",
    "    stack.append(item)\n",
    " \n",
    "#Function to remove an item from stack.\n",
    "# It decreases size by 1\n",
    "def pop(stack):\n",
    "    if isEmpty(stack): return\n",
    "    return stack.pop()\n",
    " \n",
    "# A stack based function to reverse a string\n",
    "def reverse(string):\n",
    "    n = len(string)\n",
    "    # Create a empty stack\n",
    "    stack = createStack()\n",
    " \n",
    "    # Push all characters of string to stack\n",
    "    for i in range(0,n,1):\n",
    "        push(stack,string[i])\n",
    " \n",
    "    # Making the string empty since all\n",
    "    #characters are saved in stack\n",
    "    string=\"\"\n",
    " \n",
    "    # Pop all characters of string and\n",
    "    # put them back to string\n",
    "    for i in range(0,n,1):\n",
    "        string+=pop(stack)\n",
    "         \n",
    "    return string\n",
    "     \n",
    "# Driver program to test above functions\n",
    "string=\"GeeksQuiz\"\n",
    "string = reverse(string)\n",
    "print(\"Reversed string is \" + string)"
   ]
  },
  {
   "cell_type": "markdown",
   "metadata": {},
   "source": [
    "# Simple Balanced Parenthesis"
   ]
  },
  {
   "cell_type": "code",
   "execution_count": 1,
   "metadata": {},
   "outputs": [
    {
     "name": "stdout",
     "output_type": "stream",
     "text": [
      "True\n",
      "True\n",
      "False\n"
     ]
    }
   ],
   "source": [
    "class stack:\n",
    "    \"\"\"stack implementation as a list\"\"\"\n",
    "    def __init__(self):\n",
    "        \"\"\"create new stack\"\"\"\n",
    "        self._items = []\n",
    "    def is_empty(self):\n",
    "        \"\"\"check if the stack is empty\"\"\"\n",
    "        return not bool(self._items)\n",
    "    def push(self,item):\n",
    "        \"\"\"Add an item to the stack\"\"\"\n",
    "        self._items.append(item)\n",
    "    def pop(self):\n",
    "        \"\"\"remove an item from the stack\"\"\"\n",
    "        return self._items.pop()\n",
    "    def peek(self):\n",
    "        \"\"\"get the value of the top item in the stack\"\"\"\n",
    "        return self._items[-1]\n",
    "    def size(self):\n",
    "        \"\"\"get the number of items in the stack\"\"\"\n",
    "        return len(self._items)\n",
    "def par_checker(symbol_string):\n",
    "    s = stack()\n",
    "    for symbol in symbol_string:\n",
    "        if symbol == \"(\":\n",
    "            s.push(symbol)\n",
    "        else:\n",
    "            if s.is_empty():\n",
    "                return False\n",
    "            else:\n",
    "                s.pop()\n",
    "    return s.is_empty()\n",
    "print(par_checker(\"((()))\"))\n",
    "print(par_checker(\"(((())))\"))\n",
    "print(par_checker(\"(()\"))"
   ]
  },
  {
   "cell_type": "markdown",
   "metadata": {},
   "source": [
    "# Balanced Symbol"
   ]
  },
  {
   "cell_type": "code",
   "execution_count": 2,
   "metadata": {},
   "outputs": [
    {
     "name": "stdout",
     "output_type": "stream",
     "text": [
      "True\n",
      "False\n"
     ]
    }
   ],
   "source": [
    "class stack:\n",
    "    \"\"\"stack implementation as a list\"\"\"\n",
    "    def __init__(self):\n",
    "        \"\"\"create new stack\"\"\"\n",
    "        self._items = []\n",
    "    def is_empty(self):\n",
    "        \"\"\"check if the stack is empty\"\"\"\n",
    "        return not bool(self._items)\n",
    "    def push(self,item):\n",
    "        \"\"\"Add an item to the stack\"\"\"\n",
    "        self._items.append(item)\n",
    "    def pop(self):\n",
    "        \"\"\"remove an item from the stack\"\"\"\n",
    "        return self._items.pop()\n",
    "    def peek(self):\n",
    "        \"\"\"get the value of the top item in the stack\"\"\"\n",
    "        return self._items[-1]\n",
    "    def size(self):\n",
    "        \"\"\"get the number of items in the stack\"\"\"\n",
    "        return len(self._items)\n",
    "def  balance_checker(symbol_string):\n",
    "    s = stack()\n",
    "    for symbol in symbol_string:\n",
    "        if symbol in \"({[\":\n",
    "            s.push(symbol)\n",
    "        else:\n",
    "            if s.is_empty():\n",
    "                return False\n",
    "            else:\n",
    "                if not matches(s.pop(), symbol):\n",
    "                    return False\n",
    "    return s.is_empty()\n",
    "def matches(sym_left, sym_right):\n",
    "    all_lefts = '({['\n",
    "    all_rights = ')}]'\n",
    "    return all_lefts.index(sym_left) == all_rights.index(sym_right)\n",
    "print(balance_checker('{({([][])})}'))\n",
    "print(balance_checker('[{()]'))"
   ]
  },
  {
   "cell_type": "markdown",
   "metadata": {},
   "source": [
    "# Converting decimal to binary"
   ]
  },
  {
   "cell_type": "code",
   "execution_count": 3,
   "metadata": {},
   "outputs": [
    {
     "name": "stdout",
     "output_type": "stream",
     "text": [
      "101010\n",
      "11111\n"
     ]
    }
   ],
   "source": [
    "class stack:\n",
    "    \"\"\"stack implementation as a list\"\"\"\n",
    "    def __init__(self):\n",
    "        \"\"\"create new stack\"\"\"\n",
    "        self._items = []\n",
    "    def is_empty(self):\n",
    "        \"\"\"check if the stack is empty\"\"\"\n",
    "        return not bool(self._items)\n",
    "    def push(self,item):\n",
    "        \"\"\"Add an item to the stack\"\"\"\n",
    "        self._items.append(item)\n",
    "    def pop(self):\n",
    "        \"\"\"remove an item from the stack\"\"\"\n",
    "        return self._items.pop()\n",
    "    def peek(self):\n",
    "        \"\"\"get the value of the top item in the stack\"\"\"\n",
    "        return self._items[-1]\n",
    "    def size(self):\n",
    "        \"\"\"get the number of items in the stack\"\"\"\n",
    "        return len(self._items)\n",
    "def divide_by_2(decimal_num):\n",
    "    rem_stack = stack()\n",
    "    while decimal_num > 0:\n",
    "        rem = decimal_num % 2\n",
    "        rem_stack.push(rem)\n",
    "        decimal_num = decimal_num // 2\n",
    "    bin_string = \"\"\n",
    "    while not rem_stack.is_empty():\n",
    "        bin_string = bin_string + str(rem_stack.pop())\n",
    "    return bin_string\n",
    "print(divide_by_2(42))\n",
    "print(divide_by_2(31))"
   ]
  },
  {
   "cell_type": "code",
   "execution_count": 7,
   "metadata": {},
   "outputs": [
    {
     "name": "stdout",
     "output_type": "stream",
     "text": [
      "31\n",
      "100\n"
     ]
    }
   ],
   "source": [
    "class stack:\n",
    "    \"\"\"stack implementation as a list\"\"\"\n",
    "    def __init__(self):\n",
    "        \"\"\"create new stack\"\"\"\n",
    "        self._items = []\n",
    "    def is_empty(self):\n",
    "        \"\"\"check if the stack is empty\"\"\"\n",
    "        return not bool(self._items)\n",
    "    def push(self,item):\n",
    "        \"\"\"Add an item to the stack\"\"\"\n",
    "        self._items.append(item)\n",
    "    def pop(self):\n",
    "        \"\"\"remove an item from the stack\"\"\"\n",
    "        return self._items.pop()\n",
    "    def peek(self):\n",
    "        \"\"\"get the value of the top item in the stack\"\"\"\n",
    "        return self._items[-1]\n",
    "    def size(self):\n",
    "        \"\"\"get the number of items in the stack\"\"\"\n",
    "        return len(self._items)\n",
    "def base_converter(decimal_num, base):\n",
    "    digits = \"0123456789ABCDE\"\n",
    "    rem_stack = stack()\n",
    "    while decimal_num > 0:\n",
    "        rem = decimal_num % base\n",
    "        rem_stack.push(rem)\n",
    "        decimal_num = decimal_num // base\n",
    "    new_string = \"\"\n",
    "    while not rem_stack.is_empty():\n",
    "        new_string = new_string + digits[rem_stack.pop()]\n",
    "    return new_string\n",
    "print(base_converter(25,8))\n",
    "print(base_converter(256,16))"
   ]
  },
  {
   "cell_type": "markdown",
   "metadata": {},
   "source": [
    "# Infix, prefix and postfix"
   ]
  },
  {
   "cell_type": "code",
   "execution_count": 8,
   "metadata": {},
   "outputs": [
    {
     "name": "stdout",
     "output_type": "stream",
     "text": [
      "A B * C D * +\n",
      "A B + C * D E - F G + * -\n"
     ]
    }
   ],
   "source": [
    "class stack:\n",
    "    \"\"\"stack implementation as a list\"\"\"\n",
    "    def __init__(self):\n",
    "        \"\"\"create new stack\"\"\"\n",
    "        self._items = []\n",
    "    def is_empty(self):\n",
    "        \"\"\"check if the stack is empty\"\"\"\n",
    "        return not bool(self._items)\n",
    "    def push(self,item):\n",
    "        \"\"\"Add an item to the stack\"\"\"\n",
    "        self._items.append(item)\n",
    "    def pop(self):\n",
    "        \"\"\"remove an item from the stack\"\"\"\n",
    "        return self._items.pop()\n",
    "    def peek(self):\n",
    "        \"\"\"get the value of the top item in the stack\"\"\"\n",
    "        return self._items[-1]\n",
    "    def size(self):\n",
    "        \"\"\"get the number of items in the stack\"\"\"\n",
    "        return len(self._items)\n",
    "def infix_to_postfix(infix_expr):\n",
    "    prec = {}\n",
    "    prec[\"*\"] = 3\n",
    "    prec[\"/\"] = 3\n",
    "    prec[\"+\"] = 2\n",
    "    prec[\"-\"] = 2\n",
    "    prec[\"(\"] = 1\n",
    "    op_stack = stack()\n",
    "    postfix_list = []\n",
    "    token_list = infix_expr.split()\n",
    "\n",
    "    for token in token_list:\n",
    "        if token in \"ABCDEFGHIJKLMNOPQRSTUVWXYZ\" or token in \"0123456789\":\n",
    "            postfix_list.append(token)\n",
    "        elif token == \"(\":\n",
    "            op_stack.push(token)\n",
    "        elif token == \")\":\n",
    "            top_token = op_stack.pop()\n",
    "            while top_token != \"(\":\n",
    "                postfix_list.append(top_token)\n",
    "                top_token = op_stack.pop()\n",
    "        else:\n",
    "            while (not op_stack.is_empty()) and (prec[op_stack.peek()] >= prec[token]):\n",
    "                postfix_list.append(op_stack.pop())\n",
    "            op_stack.push(token)\n",
    "\n",
    "    while not op_stack.is_empty():\n",
    "        postfix_list.append(op_stack.pop())\n",
    "\n",
    "    return \" \".join(postfix_list)\n",
    "\n",
    "print(infix_to_postfix(\"A * B + C * D\"))\n",
    "print(infix_to_postfix(\"( A + B ) * C - ( D - E ) * ( F + G )\"))\n"
   ]
  },
  {
   "cell_type": "code",
   "execution_count": null,
   "metadata": {},
   "outputs": [],
   "source": []
  }
 ],
 "metadata": {
  "kernelspec": {
   "display_name": "Python 3",
   "language": "python",
   "name": "python3"
  },
  "language_info": {
   "codemirror_mode": {
    "name": "ipython",
    "version": 3
   },
   "file_extension": ".py",
   "mimetype": "text/x-python",
   "name": "python",
   "nbconvert_exporter": "python",
   "pygments_lexer": "ipython3",
   "version": "3.8.3"
  }
 },
 "nbformat": 4,
 "nbformat_minor": 4
}
