{
 "cells": [
  {
   "cell_type": "markdown",
   "metadata": {},
   "source": [
    "# Node Class"
   ]
  },
  {
   "cell_type": "code",
   "execution_count": 2,
   "metadata": {},
   "outputs": [
    {
     "data": {
      "text/plain": [
       "93"
      ]
     },
     "execution_count": 2,
     "metadata": {},
     "output_type": "execute_result"
    }
   ],
   "source": [
    "class node:\n",
    "    \"\"\"a node of a linked list\"\"\"\n",
    "    def __init__(self, node_data):\n",
    "        self._data = node_data\n",
    "        self._next = None\n",
    "    def get_data(self):\n",
    "        \"\"\"get node data\"\"\"\n",
    "        return self._data\n",
    "    def  set_data(self, node_data):\n",
    "        \"\"\"set node data\"\"\"\n",
    "        self._data = node_data\n",
    "    data = property(get_data, set_data)\n",
    "    def get_next(self):\n",
    "        \"\"\"get next node\"\"\"\n",
    "        return self._next\n",
    "    def set_next(self, node_next):\n",
    "        \"\"\"set next node\"\"\"\n",
    "        self._next = node_next\n",
    "    next = property(get_next, set_next)\n",
    "    def _str_(self):\n",
    "        \"\"\"string\"\"\"\n",
    "        return str(self._data)\n",
    "temp = node(93)\n",
    "temp.data"
   ]
  },
  {
   "cell_type": "markdown",
   "metadata": {},
   "source": [
    "# Unordered List"
   ]
  },
  {
   "cell_type": "code",
   "execution_count": 7,
   "metadata": {},
   "outputs": [
    {
     "name": "stdout",
     "output_type": "stream",
     "text": [
      "None\n",
      "None\n",
      "None\n",
      "None\n",
      "None\n",
      "None\n",
      "True\n",
      "True\n"
     ]
    }
   ],
   "source": [
    "class node:\n",
    "    \"\"\"a node of a linked list\"\"\"\n",
    "    def __init__(self, node_data):\n",
    "        self._data = node_data\n",
    "        self._next = None\n",
    "    def get_data(self):\n",
    "        \"\"\"get node data\"\"\"\n",
    "        return self._data\n",
    "    def  set_data(self, node_data):\n",
    "        \"\"\"set node data\"\"\"\n",
    "        self._data = node_data\n",
    "    data = property(get_data, set_data)\n",
    "    def get_next(self):\n",
    "        \"\"\"get next node\"\"\"\n",
    "        return self._next\n",
    "    def set_next(self, node_next):\n",
    "        \"\"\"set next node\"\"\"\n",
    "        self._next = node_next\n",
    "    next = property(get_next, set_next)\n",
    "    def _str_(self):\n",
    "        \"\"\"string\"\"\"\n",
    "        return str(self._data)\n",
    "\n",
    "class unorderedlist:\n",
    "    def __init__(self):\n",
    "        self.head = None\n",
    "    def is_empty(self):\n",
    "        return self.head == None\n",
    "    def add(self,item):\n",
    "        temp = node(item)\n",
    "        temp.set_next(self.head)\n",
    "        self.head = temp\n",
    "    def size(self):\n",
    "        current = self.head\n",
    "        count = 0\n",
    "        while current is not None:\n",
    "            count = count + 1\n",
    "            current = current.next\n",
    "        return count\n",
    "    def search(self, item):\n",
    "        current = self.head\n",
    "        while current is not None:\n",
    "            if current.data == item:\n",
    "                return True\n",
    "            current = current.next\n",
    "        return False\n",
    "    def remove(self,item):\n",
    "        current = self.head\n",
    "        previous = None\n",
    "        while current is not None:\n",
    "            if current.data == item:\n",
    "                break\n",
    "            previous = current\n",
    "            current = current.next\n",
    "        if current is None:\n",
    "            raise Valueerror(\"{} is not in the list\".format(item))\n",
    "        if previous is None:\n",
    "            self.head = current.next\n",
    "        else:\n",
    "            previous.next = current.next\n",
    "    \n",
    "\n",
    "my_list =unorderedlist()\n",
    "print(my_list.add(31))\n",
    "print(my_list.add(77))\n",
    "print(my_list.add(17))\n",
    "print(my_list.add(93))\n",
    "print(my_list.add(26))\n",
    "print(my_list.add(59))\n",
    "print(my_list.search(59))\n",
    "print(my_list.search(77))"
   ]
  },
  {
   "cell_type": "markdown",
   "metadata": {},
   "source": [
    "# Implementing an Ordered List"
   ]
  },
  {
   "cell_type": "code",
   "execution_count": 8,
   "metadata": {},
   "outputs": [
    {
     "name": "stdout",
     "output_type": "stream",
     "text": [
      "None\n",
      "None\n",
      "None\n",
      "None\n",
      "None\n",
      "None\n",
      "True\n",
      "True\n"
     ]
    }
   ],
   "source": [
    "class orderedlist:\n",
    "    def __init__(self):\n",
    "        self.head = None\n",
    "    def search(self,item):\n",
    "        current = self.head\n",
    "        while current is not None:\n",
    "            if current.data == item:\n",
    "                return True\n",
    "            if current.data > item:\n",
    "                return False\n",
    "            current = current.next\n",
    "        return False\n",
    "    def add(self, item):\n",
    "        \"\"\"Add a new node\"\"\"\n",
    "        current = self.head\n",
    "        previous = None\n",
    "        temp = node(item)\n",
    "        while current is not None and current.data < item:\n",
    "            previous = current\n",
    "            current = current.next\n",
    "        if previous is None:\n",
    "            temp.next = self.head\n",
    "            self.head = temp\n",
    "        else:\n",
    "            temp.next = current\n",
    "            previous.next = temp\n",
    "    def size(self):\n",
    "        current = self.head\n",
    "        count = 0\n",
    "        while current is not None:\n",
    "            count = count + 1\n",
    "            current = current.next\n",
    "        return count\n",
    "    \n",
    "    def remove(self,item):\n",
    "        current = self.head\n",
    "        previous = None\n",
    "        while current is not None:\n",
    "            if current.data == item:\n",
    "                break\n",
    "            previous = current\n",
    "            current = current.next\n",
    "        if current is None:\n",
    "            raise Valueerror(\"{} is not in the list\".format(item))\n",
    "        if previous is None:\n",
    "            self.head = current.next\n",
    "        else:\n",
    "            previous.next = current.next\n",
    "my_list =orderedlist()\n",
    "print(my_list.add(31))\n",
    "print(my_list.add(77))\n",
    "print(my_list.add(17))\n",
    "print(my_list.add(93))\n",
    "print(my_list.add(26))\n",
    "print(my_list.add(59))\n",
    "print(my_list.search(59))\n",
    "print(my_list.search(77))\n",
    "        "
   ]
  },
  {
   "cell_type": "code",
   "execution_count": null,
   "metadata": {},
   "outputs": [],
   "source": []
  }
 ],
 "metadata": {
  "kernelspec": {
   "display_name": "Python 3",
   "language": "python",
   "name": "python3"
  },
  "language_info": {
   "codemirror_mode": {
    "name": "ipython",
    "version": 3
   },
   "file_extension": ".py",
   "mimetype": "text/x-python",
   "name": "python",
   "nbconvert_exporter": "python",
   "pygments_lexer": "ipython3",
   "version": "3.8.3"
  }
 },
 "nbformat": 4,
 "nbformat_minor": 4
}
