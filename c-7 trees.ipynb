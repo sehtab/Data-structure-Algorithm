{
 "cells": [
  {
   "cell_type": "markdown",
   "metadata": {},
   "source": [
    "# List of lists representation"
   ]
  },
  {
   "cell_type": "code",
   "execution_count": 3,
   "metadata": {},
   "outputs": [
    {
     "name": "stdout",
     "output_type": "stream",
     "text": [
      "['a', ['b', ['d', [], []], ['e', [], []]], ['c', ['f', [], []]]]\n",
      "left subtree =  ['b', ['d', [], []], ['e', [], []]]\n",
      "root =  a\n",
      "right subtree = ['c', ['f', [], []]]\n"
     ]
    }
   ],
   "source": [
    "my_tree = ['a',['b',['d',[],[]], ['e',[],[]]],['c',['f',[],[]]]]\n",
    "print(my_tree)\n",
    "print('left subtree = ', my_tree[1])\n",
    "print('root = ', my_tree[0])\n",
    "print('right subtree =', my_tree[2])"
   ]
  },
  {
   "cell_type": "markdown",
   "metadata": {},
   "source": [
    "# Binary Tree"
   ]
  },
  {
   "cell_type": "code",
   "execution_count": 4,
   "metadata": {},
   "outputs": [
    {
     "name": "stdout",
     "output_type": "stream",
     "text": [
      "[5, [4, [], []], []]\n",
      "[3, [9, [4, [], []], []], [7, [], [6, [], []]]]\n",
      "[3, [9, [11, [4, [], []], []], []], [7, [], [6, [], []]]]\n",
      "[6, [], []]\n"
     ]
    }
   ],
   "source": [
    "def make_binary_tree(root):\n",
    "    return [root, [], []]\n",
    "# inserring left child\n",
    "def insert_left(root, new_child):\n",
    "    old_child = root.pop(1)\n",
    "    if len(old_child) > 1:\n",
    "        root.insert(1, [new_child, old_child, []])\n",
    "    else:\n",
    "        root.insert(1, [new_child, [], []])\n",
    "    return root\n",
    "def insert_right(root, new_child):\n",
    "    old_child = root.pop(2)\n",
    "    if len(old_child) > 1:\n",
    "        root.insert(2,[new_child,[],old_child])\n",
    "    else:\n",
    "        root.insert(2,[new_child,[],[]])\n",
    "    return root\n",
    "def get_root_val(root):\n",
    "    return root[0]\n",
    "def set_root_val(root, new_value):\n",
    "    root[0] = new_value\n",
    "def get_left_child(root):\n",
    "    return root[1]\n",
    "def get_right_child(root):\n",
    "    return root[2]\n",
    "a_tree=make_binary_tree(3)\n",
    "insert_left(a_tree, 4)\n",
    "insert_left(a_tree, 5)\n",
    "insert_right(a_tree,6)\n",
    "insert_right(a_tree, 7)\n",
    "left_child= get_left_child(a_tree)\n",
    "print(left_child)\n",
    "set_root_val(left_child, 9)\n",
    "print(a_tree)\n",
    "insert_left(left_child, 11)\n",
    "print(a_tree)\n",
    "print(get_right_child(get_right_child(a_tree)))"
   ]
  },
  {
   "cell_type": "code",
   "execution_count": 1,
   "metadata": {},
   "outputs": [
    {
     "name": "stdout",
     "output_type": "stream",
     "text": [
      "a\n",
      "None\n",
      "<__main__.binarytree object at 0x7ff3f81e4070>\n",
      "b\n",
      "c\n",
      "hello\n"
     ]
    }
   ],
   "source": [
    "class binarytree:\n",
    "    def __init__(self, root_obj):\n",
    "        self.key = root_obj\n",
    "        self.left_child = None\n",
    "        self.right_child = None\n",
    "    def insert_left(self, new_node):\n",
    "        if self.left_child is None:\n",
    "            self.left_child = binarytree(new_node)\n",
    "        else:\n",
    "            new_child = binarytree(new_node)\n",
    "            new_child.left_child = self.left_child\n",
    "            self.left_child = new_child\n",
    "    def insert_right(self, new_node):\n",
    "        if self.right_child == None:\n",
    "            self.right_child = binarytree(new_node)\n",
    "        else:\n",
    "            new_child = binarttree(new_node)\n",
    "            new_child.right_child = self.right_child\n",
    "            self.right_child = new_child\n",
    "    def get_root_val(self):\n",
    "        return self.key\n",
    "    def set_root_val(self, new_obj):\n",
    "        self.key = new_obj\n",
    "    def get_left_child(self):\n",
    "        return self.left_child\n",
    "    def get_right_child(self):\n",
    "        return self.right_child\n",
    "a_tree = binarytree('a')\n",
    "print(a_tree.get_root_val())\n",
    "print(a_tree.get_left_child())\n",
    "a_tree.insert_left('b')\n",
    "print(a_tree.get_left_child())\n",
    "print(a_tree.get_left_child().get_root_val())\n",
    "a_tree.insert_right('c')\n",
    "print(a_tree.get_right_child().get_root_val())\n",
    "a_tree.get_right_child().set_root_val('hello')\n",
    "print(a_tree.get_right_child().get_root_val())\n",
    "        "
   ]
  },
  {
   "cell_type": "markdown",
   "metadata": {},
   "source": [
    "# Parse Tree"
   ]
  },
  {
   "cell_type": "code",
   "execution_count": 5,
   "metadata": {},
   "outputs": [
    {
     "ename": "ValueError",
     "evalue": "token '(10+5)*3' is not a valid integer",
     "output_type": "error",
     "traceback": [
      "\u001b[0;31m---------------------------------------------------------------------------\u001b[0m",
      "\u001b[0;31mValueError\u001b[0m                                Traceback (most recent call last)",
      "\u001b[0;32m<ipython-input-5-7e1019c046a2>\u001b[0m in \u001b[0;36mbuild_parse_tree\u001b[0;34m(fp_expr)\u001b[0m\n\u001b[1;32m     68\u001b[0m             \u001b[0;32mtry\u001b[0m\u001b[0;34m:\u001b[0m\u001b[0;34m\u001b[0m\u001b[0;34m\u001b[0m\u001b[0m\n\u001b[0;32m---> 69\u001b[0;31m                 \u001b[0mcurrent_tree\u001b[0m\u001b[0;34m.\u001b[0m\u001b[0mroot\u001b[0m \u001b[0;34m=\u001b[0m \u001b[0mint\u001b[0m\u001b[0;34m(\u001b[0m\u001b[0mi\u001b[0m\u001b[0;34m)\u001b[0m\u001b[0;34m\u001b[0m\u001b[0;34m\u001b[0m\u001b[0m\n\u001b[0m\u001b[1;32m     70\u001b[0m                 \u001b[0mparent\u001b[0m \u001b[0;34m=\u001b[0m \u001b[0mp_stack\u001b[0m\u001b[0;34m.\u001b[0m\u001b[0mpop\u001b[0m\u001b[0;34m(\u001b[0m\u001b[0;34m)\u001b[0m\u001b[0;34m\u001b[0m\u001b[0;34m\u001b[0m\u001b[0m\n",
      "\u001b[0;31mValueError\u001b[0m: invalid literal for int() with base 10: '(10+5)*3'",
      "\nDuring handling of the above exception, another exception occurred:\n",
      "\u001b[0;31mValueError\u001b[0m                                Traceback (most recent call last)",
      "\u001b[0;32m<ipython-input-5-7e1019c046a2>\u001b[0m in \u001b[0;36m<module>\u001b[0;34m\u001b[0m\n\u001b[1;32m     73\u001b[0m                 \u001b[0;32mraise\u001b[0m \u001b[0mValueError\u001b[0m\u001b[0;34m(\u001b[0m\u001b[0;34m\"token '{}' is not a valid integer\"\u001b[0m\u001b[0;34m.\u001b[0m\u001b[0mformat\u001b[0m\u001b[0;34m(\u001b[0m\u001b[0mi\u001b[0m\u001b[0;34m)\u001b[0m\u001b[0;34m)\u001b[0m\u001b[0;34m\u001b[0m\u001b[0;34m\u001b[0m\u001b[0m\n\u001b[1;32m     74\u001b[0m         \u001b[0;32mreturn\u001b[0m \u001b[0mexpr_tree\u001b[0m\u001b[0;34m\u001b[0m\u001b[0;34m\u001b[0m\u001b[0m\n\u001b[0;32m---> 75\u001b[0;31m \u001b[0mpt\u001b[0m \u001b[0;34m=\u001b[0m \u001b[0mbuild_parse_tree\u001b[0m\u001b[0;34m(\u001b[0m\u001b[0;34m'(10+5)*3'\u001b[0m\u001b[0;34m)\u001b[0m\u001b[0;34m\u001b[0m\u001b[0;34m\u001b[0m\u001b[0m\n\u001b[0m\u001b[1;32m     76\u001b[0m \u001b[0mpt\u001b[0m\u001b[0;34m.\u001b[0m\u001b[0mpostorder\u001b[0m\u001b[0;34m(\u001b[0m\u001b[0;34m)\u001b[0m\u001b[0;34m\u001b[0m\u001b[0;34m\u001b[0m\u001b[0m\n\u001b[1;32m     77\u001b[0m \u001b[0;34m\u001b[0m\u001b[0m\n",
      "\u001b[0;32m<ipython-input-5-7e1019c046a2>\u001b[0m in \u001b[0;36mbuild_parse_tree\u001b[0;34m(fp_expr)\u001b[0m\n\u001b[1;32m     71\u001b[0m                 \u001b[0mcurrent_tree\u001b[0m \u001b[0;34m=\u001b[0m \u001b[0mparent\u001b[0m\u001b[0;34m\u001b[0m\u001b[0;34m\u001b[0m\u001b[0m\n\u001b[1;32m     72\u001b[0m             \u001b[0;32mexcept\u001b[0m \u001b[0mValueError\u001b[0m\u001b[0;34m:\u001b[0m\u001b[0;34m\u001b[0m\u001b[0;34m\u001b[0m\u001b[0m\n\u001b[0;32m---> 73\u001b[0;31m                 \u001b[0;32mraise\u001b[0m \u001b[0mValueError\u001b[0m\u001b[0;34m(\u001b[0m\u001b[0;34m\"token '{}' is not a valid integer\"\u001b[0m\u001b[0;34m.\u001b[0m\u001b[0mformat\u001b[0m\u001b[0;34m(\u001b[0m\u001b[0mi\u001b[0m\u001b[0;34m)\u001b[0m\u001b[0;34m)\u001b[0m\u001b[0;34m\u001b[0m\u001b[0;34m\u001b[0m\u001b[0m\n\u001b[0m\u001b[1;32m     74\u001b[0m         \u001b[0;32mreturn\u001b[0m \u001b[0mexpr_tree\u001b[0m\u001b[0;34m\u001b[0m\u001b[0;34m\u001b[0m\u001b[0m\n\u001b[1;32m     75\u001b[0m \u001b[0mpt\u001b[0m \u001b[0;34m=\u001b[0m \u001b[0mbuild_parse_tree\u001b[0m\u001b[0;34m(\u001b[0m\u001b[0;34m'(10+5)*3'\u001b[0m\u001b[0;34m)\u001b[0m\u001b[0;34m\u001b[0m\u001b[0;34m\u001b[0m\u001b[0m\n",
      "\u001b[0;31mValueError\u001b[0m: token '(10+5)*3' is not a valid integer"
     ]
    }
   ],
   "source": [
    "class binarytree:\n",
    "    def __init__(self, root_obj):\n",
    "        self.key = root_obj\n",
    "        self.left_child = None\n",
    "        self.right_child = None\n",
    "    def insert_left(self, new_node):\n",
    "        if self.left_child is None:\n",
    "            self.left_child = binarytree(new_node)\n",
    "        else:\n",
    "            new_child = binarytree(new_node)\n",
    "            new_child.left_child = self.left_child\n",
    "            self.left_child = new_child\n",
    "    def insert_right(self, new_node):\n",
    "        if self.right_child == None:\n",
    "            self.right_child = binarytree(new_node)\n",
    "        else:\n",
    "            new_child = binarttree(new_node)\n",
    "            new_child.right_child = self.right_child\n",
    "            self.right_child = new_child\n",
    "    def get_root_val(self):\n",
    "        return self.key\n",
    "    def set_root_val(self, new_obj):\n",
    "        self.key = new_obj\n",
    "    def get_left_child(self):\n",
    "        return self.left_child\n",
    "    def get_right_child(self):\n",
    "        return self.right_child\n",
    "class stack:\n",
    "    \"\"\"stack implementation as a list\"\"\"\n",
    "    def __init__(self):\n",
    "        \"\"\"create new stack\"\"\"\n",
    "        self._items = []\n",
    "    def is_empty(self):\n",
    "        \"\"\"check if the stack is empty\"\"\"\n",
    "        return not bool(self._items)\n",
    "    def push(self,item):\n",
    "        \"\"\"Add an item to the stack\"\"\"\n",
    "        self._items.append(item)\n",
    "    def pop(self):\n",
    "        \"\"\"remove an item from the stack\"\"\"\n",
    "        return self._items.pop()\n",
    "    def peek(self):\n",
    "        \"\"\"get the value of the top item in the stack\"\"\"\n",
    "        return self._items[-1]\n",
    "    def size(self):\n",
    "        \"\"\"get the number of items in the stack\"\"\"\n",
    "        return len(self._items)\n",
    "def build_parse_tree(fp_expr):\n",
    "    fp_list = fp_expr.split()\n",
    "    p_stack = stack()\n",
    "    expr_tree = binarytree('')\n",
    "    p_stack.push(expr_tree)\n",
    "    current_tree = expr_tree\n",
    "\n",
    "    for i in fp_list:\n",
    "        if i == '(':\n",
    "            current_tree.insert_left('')\n",
    "            p_stack.push(current_tree)\n",
    "            current_tree = current_tree.left_child\n",
    "        elif i in ['+','-','*','/']:\n",
    "            current_tree.root = i\n",
    "            current_tree.insert_right('')\n",
    "            p_stack.push(current_tree)\n",
    "            current_tree = current_tree.right_child\n",
    "        elif i ==')':\n",
    "            current_tree = p_stack.pop()\n",
    "        elif i not in ['+','-','*','/',')']:\n",
    "            try:\n",
    "                current_tree.root = int(i)\n",
    "                parent = p_stack.pop()\n",
    "                current_tree = parent\n",
    "            except ValueError:\n",
    "                raise ValueError(\"token '{}' is not a valid integer\".format(i))\n",
    "        return expr_tree\n",
    "pt = build_parse_tree('(10+5)*3')\n",
    "pt.postorder()\n",
    "    \n",
    "    "
   ]
  },
  {
   "cell_type": "code",
   "execution_count": null,
   "metadata": {},
   "outputs": [],
   "source": []
  }
 ],
 "metadata": {
  "kernelspec": {
   "display_name": "Python 3",
   "language": "python",
   "name": "python3"
  },
  "language_info": {
   "codemirror_mode": {
    "name": "ipython",
    "version": 3
   },
   "file_extension": ".py",
   "mimetype": "text/x-python",
   "name": "python",
   "nbconvert_exporter": "python",
   "pygments_lexer": "ipython3",
   "version": "3.8.3"
  }
 },
 "nbformat": 4,
 "nbformat_minor": 4
}
