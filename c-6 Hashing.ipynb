{
 "cells": [
  {
   "cell_type": "code",
   "execution_count": 2,
   "metadata": {},
   "outputs": [],
   "source": [
    "def hash_str(a_string, table_size):\n",
    "    return sum([ord(c) for c in a_string]) % table_size"
   ]
  },
  {
   "cell_type": "code",
   "execution_count": 3,
   "metadata": {},
   "outputs": [],
   "source": [
    "class hashtable:\n",
    "    def __init__(self):\n",
    "        self.size = 11\n",
    "        self.slots = [None]* self.size\n",
    "        self.data = [None]*self.size\n",
    "def put(self, key, data):\n",
    "    hash_value = self.hash_function(key,len(self.slots))\n",
    "    if self.slots[hash_value] is None:\n",
    "        self.slots[hash_value]=key\n",
    "        self.data[hash_value] = data\n",
    "    else:\n",
    "        if self.slots[hash_value] == key:\n",
    "            self.data[hash_value] = data # replace\n",
    "        else:\n",
    "            next_slot = self.rehash(hash_value, len(self.slots))\n",
    "            while(\n",
    "                self.slots[next_slot] is not None\n",
    "                and self.slots[next_slot] != key\n",
    "            ):\n",
    "                next_slot = self.rehash(next_slot, len(self.slots))\n",
    "            if self.slots[next_slot] is None:\n",
    "                self.slots[next_slot] = key\n",
    "                self.data[next_slot] = data\n",
    "            else:\n",
    "                self.data[next_slot] = data\n",
    "def hash_function(self, key, size):\n",
    "    return key % size\n",
    "def rehash(self, old_hash, size):\n",
    "    return (old_hash + 1)% size\n",
    "    "
   ]
  },
  {
   "cell_type": "code",
   "execution_count": 4,
   "metadata": {},
   "outputs": [
    {
     "ename": "TypeError",
     "evalue": "'hashtable' object does not support item assignment",
     "output_type": "error",
     "traceback": [
      "\u001b[0;31m---------------------------------------------------------------------------\u001b[0m",
      "\u001b[0;31mTypeError\u001b[0m                                 Traceback (most recent call last)",
      "\u001b[0;32m<ipython-input-4-5fdbc04c19db>\u001b[0m in \u001b[0;36m<module>\u001b[0;34m\u001b[0m\n\u001b[1;32m     14\u001b[0m     \u001b[0mself\u001b[0m\u001b[0;34m.\u001b[0m\u001b[0mput\u001b[0m\u001b[0;34m(\u001b[0m\u001b[0mkey\u001b[0m\u001b[0;34m,\u001b[0m \u001b[0mdata\u001b[0m\u001b[0;34m)\u001b[0m\u001b[0;34m\u001b[0m\u001b[0;34m\u001b[0m\u001b[0m\n\u001b[1;32m     15\u001b[0m \u001b[0mh\u001b[0m \u001b[0;34m=\u001b[0m \u001b[0mhashtable\u001b[0m\u001b[0;34m(\u001b[0m\u001b[0;34m)\u001b[0m\u001b[0;34m\u001b[0m\u001b[0;34m\u001b[0m\u001b[0m\n\u001b[0;32m---> 16\u001b[0;31m \u001b[0mh\u001b[0m\u001b[0;34m[\u001b[0m\u001b[0;36m54\u001b[0m\u001b[0;34m]\u001b[0m \u001b[0;34m=\u001b[0m \u001b[0;34m'cat'\u001b[0m\u001b[0;34m\u001b[0m\u001b[0;34m\u001b[0m\u001b[0m\n\u001b[0m\u001b[1;32m     17\u001b[0m \u001b[0mh\u001b[0m\u001b[0;34m[\u001b[0m\u001b[0;36m26\u001b[0m\u001b[0;34m]\u001b[0m \u001b[0;34m=\u001b[0m \u001b[0;34m'dog'\u001b[0m\u001b[0;34m\u001b[0m\u001b[0;34m\u001b[0m\u001b[0m\n\u001b[1;32m     18\u001b[0m \u001b[0mh\u001b[0m\u001b[0;34m[\u001b[0m\u001b[0;36m93\u001b[0m\u001b[0;34m]\u001b[0m \u001b[0;34m=\u001b[0m \u001b[0;34m'lion'\u001b[0m\u001b[0;34m\u001b[0m\u001b[0;34m\u001b[0m\u001b[0m\n",
      "\u001b[0;31mTypeError\u001b[0m: 'hashtable' object does not support item assignment"
     ]
    }
   ],
   "source": [
    "def get(self, key):\n",
    "    start_slot = self.hash_function(key, len(self.slots))\n",
    "    position = start_slot\n",
    "    while self.slots[position] is not None:\n",
    "        if self.slots[position] == key:\n",
    "            return self.data[position]\n",
    "        else:\n",
    "            position = self.rehash(position,len(self.slots))\n",
    "            if position == start_slot:\n",
    "                return None\n",
    "def __getitem__(self,key):\n",
    "    return self.get(key)\n",
    "def __setitem__(self, key, data):\n",
    "    self.put(key, data)\n",
    "h = hashtable()\n",
    "h[54] = 'cat'\n",
    "h[26] = 'dog'\n",
    "h[93] = 'lion'\n",
    "h[1] = 'pig'\n",
    "print(h.slots)\n",
    "print(h.data)"
   ]
  },
  {
   "cell_type": "code",
   "execution_count": 5,
   "metadata": {},
   "outputs": [
    {
     "name": "stdout",
     "output_type": "stream",
     "text": [
      "0 --> Grand Forks --> Baltimore \n",
      "1 --> Fargo --> Lint \n",
      "2 \n",
      "3 \n",
      "4 \n",
      "5 --> Kansas City \n",
      "6 \n",
      "7 \n",
      "8 \n",
      "9 --> Iowa \n"
     ]
    }
   ],
   "source": [
    "# Function to display hashtable\n",
    "def display_hash(hashTable):\n",
    "      \n",
    "    for i in range(len(hashTable)):\n",
    "        print(i, end = \" \")\n",
    "          \n",
    "        for j in hashTable[i]:\n",
    "            print(\"-->\", end = \" \")\n",
    "            print(j, end = \" \")\n",
    "              \n",
    "        print()\n",
    "  \n",
    "# Creating Hashtable as \n",
    "# a nested list.\n",
    "HashTable = [[] for _ in range(10)]\n",
    "  \n",
    "# Hashing Function to return \n",
    "# key for every value.\n",
    "def Hashing(keyvalue):\n",
    "    return keyvalue % len(HashTable)\n",
    "  \n",
    "  \n",
    "# Insert Function to add\n",
    "# values to the hash table\n",
    "def insert(Hashtable, keyvalue, value):\n",
    "      \n",
    "    hash_key = Hashing(keyvalue)\n",
    "    Hashtable[hash_key].append(value)\n",
    "  \n",
    "# Driver Code\n",
    "insert(HashTable, 10, 'Grand Forks')\n",
    "insert(HashTable, 25, 'Kansas City')\n",
    "insert(HashTable, 20, 'Baltimore')\n",
    "insert(HashTable, 9, 'Iowa')\n",
    "insert(HashTable, 21, 'Fargo')\n",
    "insert(HashTable, 21, 'Lint')\n",
    "  \n",
    "display_hash (HashTable)"
   ]
  },
  {
   "cell_type": "code",
   "execution_count": null,
   "metadata": {},
   "outputs": [],
   "source": []
  }
 ],
 "metadata": {
  "kernelspec": {
   "display_name": "Python 3",
   "language": "python",
   "name": "python3"
  },
  "language_info": {
   "codemirror_mode": {
    "name": "ipython",
    "version": 3
   },
   "file_extension": ".py",
   "mimetype": "text/x-python",
   "name": "python",
   "nbconvert_exporter": "python",
   "pygments_lexer": "ipython3",
   "version": "3.8.3"
  }
 },
 "nbformat": 4,
 "nbformat_minor": 4
}
