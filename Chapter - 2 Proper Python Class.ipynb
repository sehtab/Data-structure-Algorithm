{
 "cells": [
  {
   "cell_type": "markdown",
   "metadata": {},
   "source": [
    "# MSDie class"
   ]
  },
  {
   "cell_type": "code",
   "execution_count": 2,
   "metadata": {},
   "outputs": [
    {
     "name": "stdout",
     "output_type": "stream",
     "text": [
      "3\n",
      "4\n",
      "4\n",
      "4\n",
      "2\n",
      "[MSDie(6) : 1 , MSDie(20) : 8 ]\n"
     ]
    }
   ],
   "source": [
    "import random\n",
    "class msdie:\n",
    "    \"\"\"  Multi-sided Die\n",
    "    Instance variables:\n",
    "    current_value\n",
    "    num_sides  \"\"\"\n",
    "    def __init__(self,num_sides):\n",
    "        self.num_sides = num_sides\n",
    "        self.current_value = self.roll()\n",
    "    def roll(self):\n",
    "        self.current_value=random.randrange(1,self.num_sides+1)\n",
    "        return self.current_value\n",
    "    def __str__(self):\n",
    "        return str(self.current_value)\n",
    "    def __repr__(self):\n",
    "        return 'MSDie({}) : {} '.format(self.num_sides,self.current_value)\n",
    "my_die = msdie(6)\n",
    "for i in range(5):\n",
    "    print(my_die)\n",
    "    my_die.roll()\n",
    "d_list = [msdie(6), msdie(20)]\n",
    "print(d_list)"
   ]
  },
  {
   "cell_type": "markdown",
   "metadata": {},
   "source": [
    "# Making comparable class"
   ]
  },
  {
   "cell_type": "code",
   "execution_count": 4,
   "metadata": {},
   "outputs": [
    {
     "name": "stdout",
     "output_type": "stream",
     "text": [
      "False\n",
      "False\n",
      "True\n",
      "True\n",
      "False\n",
      "True\n",
      "False\n"
     ]
    }
   ],
   "source": [
    "import random\n",
    "class msdie:\n",
    "    \"\"\"  Multi-sided Die\n",
    "    Instance variables:\n",
    "    current_value\n",
    "    num_sides  \"\"\"\n",
    "    def __init__(self,num_sides):\n",
    "        self.num_sides = num_sides\n",
    "        self.current_value = self.roll()\n",
    "    def roll(self):\n",
    "        self.current_value=random.randrange(1,self.num_sides+1)\n",
    "        return self.current_value\n",
    "    def __str__(self):\n",
    "        return str(self.current_value)\n",
    "    def __repr__(self):\n",
    "        return 'MSDie({}) : {} '.format(self.num_sides,self.current_value)\n",
    "    def __eq__(self,other):\n",
    "        return self.current_value == other.current_value\n",
    "    def __lt__(self,other):\n",
    "        return self.current_value < other.current_value\n",
    "    def __le__(self,other):\n",
    "        return self.current_value <= other.current_value\n",
    "    \n",
    "x = msdie(6)\n",
    "y = msdie(7)\n",
    "x.current_value = 6\n",
    "y.current_value = 5\n",
    "print(x == y)\n",
    "print(x < y)\n",
    "print(x > y)\n",
    "print(x != y)\n",
    "print(x<=y)\n",
    "print(x>=y)\n",
    "print(x is y)\n"
   ]
  },
  {
   "cell_type": "code",
   "execution_count": null,
   "metadata": {},
   "outputs": [],
   "source": []
  }
 ],
 "metadata": {
  "kernelspec": {
   "display_name": "Python 3",
   "language": "python",
   "name": "python3"
  },
  "language_info": {
   "codemirror_mode": {
    "name": "ipython",
    "version": 3
   },
   "file_extension": ".py",
   "mimetype": "text/x-python",
   "name": "python",
   "nbconvert_exporter": "python",
   "pygments_lexer": "ipython3",
   "version": "3.8.3"
  }
 },
 "nbformat": 4,
 "nbformat_minor": 4
}
